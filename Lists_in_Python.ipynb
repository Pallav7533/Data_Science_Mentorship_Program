{
 "cells": [
  {
   "cell_type": "raw",
   "id": "7b55df63",
   "metadata": {},
   "source": [
    "1. Lists:\n",
    "\n",
    "What are Lists?\n",
    "\n",
    "1.Lists Vs Arrays\n",
    "2.Characterstics of a List\n",
    "3.How to create a list\n",
    "4.Access items from a List\n",
    "5.Editing items in a List\n",
    "6.Deleting items from a List\n",
    "7.Operations on Lists\n",
    "8.Functions on Lists"
   ]
  },
  {
   "cell_type": "raw",
   "id": "d1f39605",
   "metadata": {},
   "source": [
    "What are Lists?\n",
    "\n",
    "List is a data type where you can store multiple items under 1 name. More technically, lists act like dynamic arrays which means you can add more items on the fly."
   ]
  },
  {
   "cell_type": "code",
   "execution_count": 7,
   "id": "059c0549",
   "metadata": {},
   "outputs": [],
   "source": [
    "#Array Vs Lists\n",
    " ##Fixed Vs Dynamic Size\n",
    " ##Convenience -> Hetrogeneous\n",
    " ##Speed of Execution\n",
    " ##Memory\n",
    "\n",
    "#id() function print a memory address"
   ]
  },
  {
   "cell_type": "code",
   "execution_count": 8,
   "id": "fc8aa36a",
   "metadata": {},
   "outputs": [
    {
     "name": "stdout",
     "output_type": "stream",
     "text": [
      "2589067076288\n",
      "2588986638576\n",
      "2588986638608\n",
      "2588986638640\n",
      "2588986638576\n",
      "2588986638608\n",
      "2588986638640\n"
     ]
    }
   ],
   "source": [
    "L = [1,2,3]\n",
    "\n",
    "print(id(L))\n",
    "print(id(L[0]))\n",
    "print(id(L[1]))\n",
    "print(id(L[2]))\n",
    "print(id(1))\n",
    "print(id(2))\n",
    "print(id(3))"
   ]
  },
  {
   "cell_type": "raw",
   "id": "8acbf299",
   "metadata": {},
   "source": [
    "Characterstics of a List\n",
    "\n",
    "\n",
    "Ordered\n",
    "Changeble/Mutable\n",
    "Hetrogeneous\n",
    "Can have duplicates\n",
    "are dynamic\n",
    "can be nested\n",
    "items can be accessed\n",
    "can contain any kind of objects in python"
   ]
  },
  {
   "cell_type": "code",
   "execution_count": 9,
   "id": "1022f795",
   "metadata": {},
   "outputs": [
    {
     "data": {
      "text/plain": [
       "False"
      ]
     },
     "execution_count": 9,
     "metadata": {},
     "output_type": "execute_result"
    }
   ],
   "source": [
    "L = [1,2,3,1]\n",
    "L1 = [3,2,1]\n",
    "\n",
    "L == L1"
   ]
  },
  {
   "cell_type": "markdown",
   "id": "538d3514",
   "metadata": {},
   "source": [
    "# Creating a List"
   ]
  },
  {
   "cell_type": "code",
   "execution_count": 10,
   "id": "b11c0936",
   "metadata": {},
   "outputs": [
    {
     "name": "stdout",
     "output_type": "stream",
     "text": [
      "[]\n",
      "[1, 2, 3, 4, 5]\n",
      "[1, 2, 3, [4, 5]]\n",
      "[[[1, 2], [3, 4]], [[5, 6], [7, 8]]]\n",
      "[1, True, 5.6, (5+6j), 'Hello']\n",
      "['h', 'e', 'l', 'l', 'o']\n"
     ]
    }
   ],
   "source": [
    "# Empty\n",
    "print([])\n",
    "\n",
    "# 1D -> Homo\n",
    "print([1,2,3,4,5])\n",
    "\n",
    "# 2D\n",
    "print([1,2,3,[4,5]])\n",
    "\n",
    "# 3D\n",
    "print([[[1,2],[3,4]],[[5,6],[7,8]]])\n",
    "\n",
    "# Hetrogenous\n",
    "print([1,True,5.6,5+6j,'Hello'])\n",
    "\n",
    "# Using Type conversion\n",
    "print(list('hello'))"
   ]
  },
  {
   "cell_type": "markdown",
   "id": "48fc48a4",
   "metadata": {},
   "source": [
    "# Accessing Items from a List"
   ]
  },
  {
   "cell_type": "code",
   "execution_count": 13,
   "id": "404cd36d",
   "metadata": {},
   "outputs": [
    {
     "name": "stdout",
     "output_type": "stream",
     "text": [
      "2\n",
      "[6, 5, 4, 3, 2, 1]\n"
     ]
    }
   ],
   "source": [
    "# Indexing\n",
    "L = [[[1,2],[3,4]],[[5,6],[7,8]]]\n",
    "\n",
    "#positive\n",
    "print(L[0][0][1])\n",
    "\n",
    "# Slicing\n",
    "L = [1,2,3,4,5,6]\n",
    "\n",
    "print(L[::-1])"
   ]
  },
  {
   "cell_type": "markdown",
   "id": "598afdf1",
   "metadata": {},
   "source": [
    "# Adding Items to a List"
   ]
  },
  {
   "cell_type": "code",
   "execution_count": 14,
   "id": "7598b849",
   "metadata": {},
   "outputs": [
    {
     "name": "stdout",
     "output_type": "stream",
     "text": [
      "[1, 2, 3, 4, 5, True]\n"
     ]
    }
   ],
   "source": [
    "# append\n",
    "L = [1,2,3,4,5]\n",
    "L.append(True)\n",
    "print(L)"
   ]
  },
  {
   "cell_type": "code",
   "execution_count": 15,
   "id": "dd8d336f",
   "metadata": {},
   "outputs": [
    {
     "name": "stdout",
     "output_type": "stream",
     "text": [
      "[1, 2, 3, 4, 5, 6, 7, 8]\n"
     ]
    }
   ],
   "source": [
    "# extend\n",
    "L = [1,2,3,4,5]\n",
    "L.extend([6,7,8])\n",
    "print(L)"
   ]
  },
  {
   "cell_type": "code",
   "execution_count": 16,
   "id": "97729e97",
   "metadata": {},
   "outputs": [
    {
     "name": "stdout",
     "output_type": "stream",
     "text": [
      "[1, 2, 3, 4, 5, [6, 7, 8]]\n"
     ]
    }
   ],
   "source": [
    "L = [1,2,3,4,5]\n",
    "L.append([6,7,8])\n",
    "print(L)"
   ]
  },
  {
   "cell_type": "code",
   "execution_count": 17,
   "id": "4f399a4a",
   "metadata": {},
   "outputs": [
    {
     "name": "stdout",
     "output_type": "stream",
     "text": [
      "[1, 2, 3, 4, 5, 'd', 'e', 'l', 'h', 'i']\n"
     ]
    }
   ],
   "source": [
    "L = [1,2,3,4,5]\n",
    "L.extend('delhi')\n",
    "print(L)"
   ]
  },
  {
   "cell_type": "code",
   "execution_count": 18,
   "id": "f68aba5a",
   "metadata": {},
   "outputs": [
    {
     "name": "stdout",
     "output_type": "stream",
     "text": [
      "[1, 100, 2, 3, 4, 5]\n"
     ]
    }
   ],
   "source": [
    "# insert\n",
    "L = [1,2,3,4,5]\n",
    "\n",
    "L.insert(1,100)\n",
    "print(L)"
   ]
  },
  {
   "cell_type": "markdown",
   "id": "8018bf4d",
   "metadata": {},
   "source": [
    "# Editing items in a List"
   ]
  },
  {
   "cell_type": "code",
   "execution_count": 19,
   "id": "932f884b",
   "metadata": {},
   "outputs": [
    {
     "name": "stdout",
     "output_type": "stream",
     "text": [
      "[1, 200, 300, 400, 500]\n"
     ]
    }
   ],
   "source": [
    "L = [1,2,3,4,5]\n",
    "\n",
    "# editing with indexing\n",
    "L[-1] = 500\n",
    "\n",
    "# editing with slicing\n",
    "L[1:4] = [200,300,400]\n",
    "\n",
    "print(L)"
   ]
  },
  {
   "cell_type": "markdown",
   "id": "1e5b5255",
   "metadata": {},
   "source": [
    "# Deleting items from a List"
   ]
  },
  {
   "cell_type": "code",
   "execution_count": 20,
   "id": "d16d4ffd",
   "metadata": {},
   "outputs": [
    {
     "name": "stdout",
     "output_type": "stream",
     "text": [
      "[1, 4]\n"
     ]
    }
   ],
   "source": [
    "# del\n",
    "L = [1,2,3,4,5]\n",
    "\n",
    "# indexing\n",
    "del L[-1]\n",
    "\n",
    "# slicing\n",
    "del L[1:3]\n",
    "print(L)"
   ]
  },
  {
   "cell_type": "code",
   "execution_count": 21,
   "id": "3653c6f1",
   "metadata": {},
   "outputs": [
    {
     "name": "stdout",
     "output_type": "stream",
     "text": [
      "[1, 2, 3, 4]\n"
     ]
    }
   ],
   "source": [
    "# remove\n",
    "\n",
    "L = [1,2,3,4,5]\n",
    "\n",
    "L.remove(5)\n",
    "\n",
    "print(L)\n"
   ]
  },
  {
   "cell_type": "code",
   "execution_count": 22,
   "id": "9d7944a2",
   "metadata": {},
   "outputs": [
    {
     "name": "stdout",
     "output_type": "stream",
     "text": [
      "[1, 2, 3, 4]\n"
     ]
    }
   ],
   "source": [
    "# pop\n",
    "L = [1,2,3,4,5]\n",
    "\n",
    "L.pop()\n",
    "\n",
    "print(L)"
   ]
  },
  {
   "cell_type": "code",
   "execution_count": 23,
   "id": "7fc601ec",
   "metadata": {},
   "outputs": [
    {
     "name": "stdout",
     "output_type": "stream",
     "text": [
      "[]\n"
     ]
    }
   ],
   "source": [
    "# clear\n",
    "L = [1,2,3,4,5]\n",
    "\n",
    "L.clear()\n",
    "\n",
    "print(L)"
   ]
  },
  {
   "cell_type": "raw",
   "id": "bffb12ca",
   "metadata": {},
   "source": [
    "Operations on Lists\n",
    "\n",
    "Arithmetic\n",
    "Membership\n",
    "Loop"
   ]
  },
  {
   "cell_type": "code",
   "execution_count": 24,
   "id": "41d3b3c0",
   "metadata": {},
   "outputs": [
    {
     "name": "stdout",
     "output_type": "stream",
     "text": [
      "[1, 2, 3, 4, 5, 6, 7, 8]\n"
     ]
    }
   ],
   "source": [
    "# Arithmetic (+ ,*)\n",
    "\n",
    "L1 = [1,2,3,4]\n",
    "L2 = [5,6,7,8]\n",
    "\n",
    "# Concatenation/Merge\n",
    "print(L1 + L2)"
   ]
  },
  {
   "cell_type": "code",
   "execution_count": 25,
   "id": "a079d88b",
   "metadata": {},
   "outputs": [
    {
     "name": "stdout",
     "output_type": "stream",
     "text": [
      "[1, 2, 3, 4, 1, 2, 3, 4, 1, 2, 3, 4]\n"
     ]
    }
   ],
   "source": [
    "print(L1*3)"
   ]
  },
  {
   "cell_type": "code",
   "execution_count": 26,
   "id": "e3ebfe83",
   "metadata": {},
   "outputs": [
    {
     "name": "stdout",
     "output_type": "stream",
     "text": [
      "False\n",
      "True\n"
     ]
    }
   ],
   "source": [
    "L1 = [1,2,3,4,5]\n",
    "L2 = [1,2,3,4,[5,6]]\n",
    "\n",
    "print(5 not in L1)\n",
    "print([5,6] in L2)"
   ]
  },
  {
   "cell_type": "code",
   "execution_count": 27,
   "id": "4be656ce",
   "metadata": {},
   "outputs": [
    {
     "name": "stdout",
     "output_type": "stream",
     "text": [
      "[[1, 2], [3, 4]]\n",
      "[[5, 6], [7, 8]]\n"
     ]
    }
   ],
   "source": [
    "# Loops\n",
    "L1 = [1,2,3,4,5]\n",
    "L2 = [1,2,3,4,[5,6]]\n",
    "L3 = [[[1,2],[3,4]],[[5,6],[7,8]]]\n",
    "\n",
    "for i in L3:\n",
    "  print(i)"
   ]
  },
  {
   "cell_type": "markdown",
   "id": "317d1095",
   "metadata": {},
   "source": [
    "# List Functions"
   ]
  },
  {
   "cell_type": "code",
   "execution_count": 28,
   "id": "f08839bf",
   "metadata": {},
   "outputs": [
    {
     "name": "stdout",
     "output_type": "stream",
     "text": [
      "5\n",
      "0\n",
      "7\n",
      "[7, 5, 2, 1, 0]\n"
     ]
    }
   ],
   "source": [
    "# len/min/max/sorted\n",
    "L = [2,1,5,7,0]\n",
    "\n",
    "print(len(L))\n",
    "print(min(L))\n",
    "print(max(L))\n",
    "print(sorted(L,reverse=True))"
   ]
  },
  {
   "cell_type": "code",
   "execution_count": 29,
   "id": "bd9ec1ff",
   "metadata": {},
   "outputs": [
    {
     "data": {
      "text/plain": [
       "1"
      ]
     },
     "execution_count": 29,
     "metadata": {},
     "output_type": "execute_result"
    }
   ],
   "source": [
    "# count \n",
    "L = [1,2,1,3,4,1,5]\n",
    "L.count(5)"
   ]
  },
  {
   "cell_type": "code",
   "execution_count": 30,
   "id": "3de1b872",
   "metadata": {},
   "outputs": [
    {
     "data": {
      "text/plain": [
       "0"
      ]
     },
     "execution_count": 30,
     "metadata": {},
     "output_type": "execute_result"
    }
   ],
   "source": [
    "# index\n",
    "L = [1,2,1,3,4,1,5]\n",
    "L.index(1)"
   ]
  },
  {
   "cell_type": "code",
   "execution_count": 31,
   "id": "55ab9a6c",
   "metadata": {},
   "outputs": [
    {
     "name": "stdout",
     "output_type": "stream",
     "text": [
      "[0, 7, 5, 1, 2]\n"
     ]
    }
   ],
   "source": [
    "# reverse\n",
    "L = [2,1,5,7,0]\n",
    "# permanently reverses the list\n",
    "L.reverse()\n",
    "print(L)"
   ]
  },
  {
   "cell_type": "code",
   "execution_count": 32,
   "id": "d5aba788",
   "metadata": {},
   "outputs": [
    {
     "name": "stdout",
     "output_type": "stream",
     "text": [
      "[2, 1, 5, 7, 0]\n",
      "[0, 1, 2, 5, 7]\n",
      "[2, 1, 5, 7, 0]\n",
      "[0, 1, 2, 5, 7]\n"
     ]
    }
   ],
   "source": [
    "# sort (vs sorted)\n",
    "L = [2,1,5,7,0]\n",
    "print(L)\n",
    "print(sorted(L))\n",
    "print(L)\n",
    "L.sort()\n",
    "print(L)"
   ]
  },
  {
   "cell_type": "code",
   "execution_count": 33,
   "id": "d137fad4",
   "metadata": {},
   "outputs": [
    {
     "name": "stdout",
     "output_type": "stream",
     "text": [
      "[2, 1, 5, 7, 0]\n",
      "2589066814080\n",
      "[2, 1, 5, 7, 0]\n",
      "2589066916160\n"
     ]
    }
   ],
   "source": [
    "# copy -> shallow\n",
    "L = [2,1,5,7,0]\n",
    "print(L)\n",
    "print(id(L))\n",
    "L1 = L.copy()\n",
    "print(L1)\n",
    "print(id(L1))"
   ]
  },
  {
   "cell_type": "markdown",
   "id": "0c485ee6",
   "metadata": {},
   "source": [
    "# List Comprehension"
   ]
  },
  {
   "cell_type": "raw",
   "id": "f1e9a18a",
   "metadata": {},
   "source": [
    "List Comprehension provides a concise way of creating lists.\n",
    "\n",
    "newlist = [expression for item in iterable if condition == True]"
   ]
  },
  {
   "cell_type": "raw",
   "id": "669d7896",
   "metadata": {},
   "source": [
    "Advantages of List Comprehension\n",
    "\n",
    "More time-efficient and space-efficient than loops.\n",
    "Require fewer lines of code.\n",
    "Transforms iterative statement into a formula."
   ]
  },
  {
   "cell_type": "code",
   "execution_count": 35,
   "id": "94b559a3",
   "metadata": {},
   "outputs": [
    {
     "name": "stdout",
     "output_type": "stream",
     "text": [
      "[1, 2, 3, 4, 5, 6, 7, 8, 9, 10]\n"
     ]
    }
   ],
   "source": [
    "# Add 1 to 10 numbers to a list\n",
    "L = []\n",
    "\n",
    "for i in range(1,11):\n",
    "  L.append(i)\n",
    "\n",
    "print(L)"
   ]
  },
  {
   "cell_type": "code",
   "execution_count": 36,
   "id": "b0b53d7b",
   "metadata": {},
   "outputs": [
    {
     "name": "stdout",
     "output_type": "stream",
     "text": [
      "[1, 2, 3, 4, 5, 6, 7, 8, 9, 10]\n"
     ]
    }
   ],
   "source": [
    "L = [i for i in range(1,11)]\n",
    "print(L)"
   ]
  },
  {
   "cell_type": "code",
   "execution_count": 37,
   "id": "45238942",
   "metadata": {},
   "outputs": [
    {
     "data": {
      "text/plain": [
       "[-6, -9, -12]"
      ]
     },
     "execution_count": 37,
     "metadata": {},
     "output_type": "execute_result"
    }
   ],
   "source": [
    "# scalar multiplication on a vector\n",
    "v = [2,3,4]\n",
    "s = -3\n",
    "# [-6,-9,-12]\n",
    "\n",
    "[s*i for i in v]"
   ]
  },
  {
   "cell_type": "code",
   "execution_count": 38,
   "id": "be3cc08e",
   "metadata": {},
   "outputs": [
    {
     "data": {
      "text/plain": [
       "[1, 4, 9, 16, 25]"
      ]
     },
     "execution_count": 38,
     "metadata": {},
     "output_type": "execute_result"
    }
   ],
   "source": [
    "# Add squares\n",
    "L = [1,2,3,4,5]\n",
    "\n",
    "[i**2 for i in L]\n"
   ]
  },
  {
   "cell_type": "code",
   "execution_count": 39,
   "id": "481bfdfc",
   "metadata": {},
   "outputs": [
    {
     "data": {
      "text/plain": [
       "[5, 10, 15, 20, 25, 30, 35, 40, 45, 50]"
      ]
     },
     "execution_count": 39,
     "metadata": {},
     "output_type": "execute_result"
    }
   ],
   "source": [
    "# Print all numbers divisible by 5 in the range of 1 to 50\n",
    "\n",
    "[i for i in range(1,51) if i%5 == 0]"
   ]
  },
  {
   "cell_type": "code",
   "execution_count": 40,
   "id": "17216170",
   "metadata": {},
   "outputs": [
    {
     "data": {
      "text/plain": [
       "['python', 'php']"
      ]
     },
     "execution_count": 40,
     "metadata": {},
     "output_type": "execute_result"
    }
   ],
   "source": [
    "# find languages which start with letter p\n",
    "languages = ['java','python','php','c','javascript']\n",
    "\n",
    "[language for language in languages if language.startswith('p')]"
   ]
  },
  {
   "cell_type": "code",
   "execution_count": 41,
   "id": "d1efb4dc",
   "metadata": {},
   "outputs": [
    {
     "data": {
      "text/plain": [
       "['apple']"
      ]
     },
     "execution_count": 41,
     "metadata": {},
     "output_type": "execute_result"
    }
   ],
   "source": [
    "# Nested if with List Comprehension\n",
    "basket = ['apple','guava','cherry','banana']\n",
    "my_fruits = ['apple','kiwi','grapes','banana']\n",
    "\n",
    "# add new list from my_fruits and items if the fruit exists in basket and also starts with 'a'\n",
    "\n",
    "[fruit for fruit in my_fruits if fruit in basket if fruit.startswith('a')]"
   ]
  },
  {
   "cell_type": "code",
   "execution_count": 42,
   "id": "e8a3a441",
   "metadata": {},
   "outputs": [
    {
     "data": {
      "text/plain": [
       "[[1, 2, 3], [2, 4, 6], [3, 6, 9]]"
      ]
     },
     "execution_count": 42,
     "metadata": {},
     "output_type": "execute_result"
    }
   ],
   "source": [
    "# Print a (3,3) matrix using list comprehension -> Nested List comprehension\n",
    "[[i*j for i in range(1,4)] for j in range(1,4)]"
   ]
  },
  {
   "cell_type": "code",
   "execution_count": 43,
   "id": "1e6afd58",
   "metadata": {},
   "outputs": [
    {
     "data": {
      "text/plain": [
       "[5, 6, 7, 8, 10, 12, 14, 16, 15, 18, 21, 24, 20, 24, 28, 32]"
      ]
     },
     "execution_count": 43,
     "metadata": {},
     "output_type": "execute_result"
    }
   ],
   "source": [
    "# cartesian products -> List comprehension on 2 lists together\n",
    "L1 = [1,2,3,4]\n",
    "L2 = [5,6,7,8]\n",
    "\n",
    "[i*j for i in L1 for j in L2]"
   ]
  },
  {
   "cell_type": "raw",
   "id": "27c5706c",
   "metadata": {},
   "source": [
    "2 ways to traverse a list\n",
    "\n",
    "itemwise\n",
    "indexwise\n"
   ]
  },
  {
   "cell_type": "code",
   "execution_count": 44,
   "id": "d3700c8f",
   "metadata": {},
   "outputs": [
    {
     "name": "stdout",
     "output_type": "stream",
     "text": [
      "1\n",
      "2\n",
      "3\n",
      "4\n"
     ]
    }
   ],
   "source": [
    "# itemwise\n",
    "L = [1,2,3,4]\n",
    "\n",
    "for i in L:\n",
    "  print(i)"
   ]
  },
  {
   "cell_type": "code",
   "execution_count": 45,
   "id": "8ee832c6",
   "metadata": {},
   "outputs": [
    {
     "name": "stdout",
     "output_type": "stream",
     "text": [
      "1\n",
      "2\n",
      "3\n",
      "4\n"
     ]
    }
   ],
   "source": [
    "# indexwise\n",
    "L = [1,2,3,4]\n",
    "\n",
    "for i in range(0,len(L)):\n",
    "  print(L[i])\n"
   ]
  },
  {
   "cell_type": "markdown",
   "id": "903504a1",
   "metadata": {},
   "source": [
    "# ZIP"
   ]
  },
  {
   "cell_type": "raw",
   "id": "5fbae042",
   "metadata": {},
   "source": [
    "The zip() function returns a zip object, which is an iterator of tuples where the first item in each passed iterator is paired together, and then the second item in each passed iterator are paired together.\n",
    "\n",
    "If the passed iterators have different lengths, the iterator with the least items decides the length of the new iterator."
   ]
  },
  {
   "cell_type": "code",
   "execution_count": 47,
   "id": "43af2225",
   "metadata": {},
   "outputs": [
    {
     "data": {
      "text/plain": [
       "[0, 0, 0, 0]"
      ]
     },
     "execution_count": 47,
     "metadata": {},
     "output_type": "execute_result"
    }
   ],
   "source": [
    "# Write a program to add items of 2 lists indexwise\n",
    "\n",
    "L1 = [1,2,3,4]\n",
    "L2 = [-1,-2,-3,-4]\n",
    "\n",
    "list(zip(L1,L2)) \n",
    "[i+j for i,j in zip(L1,L2)]"
   ]
  },
  {
   "cell_type": "code",
   "execution_count": 48,
   "id": "328c003b",
   "metadata": {},
   "outputs": [
    {
     "name": "stdout",
     "output_type": "stream",
     "text": [
      "[1, 2, <built-in function print>, <class 'type'>, <bound method Kernel.raw_input of <ipykernel.ipkernel.IPythonKernel object at 0x0000025AD01C8F70>>]\n"
     ]
    }
   ],
   "source": [
    "L = [1,2,print,type,input]\n",
    "\n",
    "print(L)"
   ]
  },
  {
   "cell_type": "raw",
   "id": "9f1c11e1",
   "metadata": {},
   "source": [
    "Disadvantages of Python Lists\n",
    "\n",
    "Slow\n",
    "Risky usage\n",
    "eats up more memory"
   ]
  },
  {
   "cell_type": "code",
   "execution_count": 49,
   "id": "c016590e",
   "metadata": {},
   "outputs": [
    {
     "name": "stdout",
     "output_type": "stream",
     "text": [
      "[1, 2, 3]\n",
      "[1, 2, 3]\n",
      "[1, 2, 3, 4]\n",
      "[1, 2, 3]\n"
     ]
    }
   ],
   "source": [
    "a = [1,2,3]\n",
    "b = a.copy()\n",
    "\n",
    "print(a)\n",
    "print(b)\n",
    "\n",
    "a.append(4)\n",
    "print(a)\n",
    "print(b)\n",
    "\n",
    "# lists are mutable"
   ]
  },
  {
   "cell_type": "code",
   "execution_count": null,
   "id": "4daf48cd",
   "metadata": {},
   "outputs": [],
   "source": []
  }
 ],
 "metadata": {
  "kernelspec": {
   "display_name": "Python 3 (ipykernel)",
   "language": "python",
   "name": "python3"
  },
  "language_info": {
   "codemirror_mode": {
    "name": "ipython",
    "version": 3
   },
   "file_extension": ".py",
   "mimetype": "text/x-python",
   "name": "python",
   "nbconvert_exporter": "python",
   "pygments_lexer": "ipython3",
   "version": "3.10.13"
  }
 },
 "nbformat": 4,
 "nbformat_minor": 5
}
