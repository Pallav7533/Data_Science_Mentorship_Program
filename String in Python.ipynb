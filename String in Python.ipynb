{
 "cells": [
  {
   "cell_type": "markdown",
   "id": "db563f72",
   "metadata": {},
   "source": [
    "# sequence sum"
   ]
  },
  {
   "cell_type": "code",
   "execution_count": 1,
   "id": "1fbd5308",
   "metadata": {},
   "outputs": [],
   "source": [
    "# 1/1! + 2/2! + 3/3! + ..."
   ]
  },
  {
   "cell_type": "code",
   "execution_count": 3,
   "id": "5bd07776",
   "metadata": {},
   "outputs": [
    {
     "name": "stdout",
     "output_type": "stream",
     "text": [
      "enter n5\n",
      "2.708333333333333\n"
     ]
    }
   ],
   "source": [
    "n=int(input('enter n'))\n",
    "\n",
    "result = 0\n",
    "fact = 1\n",
    "\n",
    "for i in range(1,n+1):\n",
    "  fact = fact * i\n",
    "  result = result + i/fact\n",
    "\n",
    "print(result)\n",
    "\n",
    "\n"
   ]
  },
  {
   "cell_type": "markdown",
   "id": "d81de808",
   "metadata": {},
   "source": [
    "# Nested Loops"
   ]
  },
  {
   "cell_type": "code",
   "execution_count": 4,
   "id": "1133442e",
   "metadata": {},
   "outputs": [
    {
     "name": "stdout",
     "output_type": "stream",
     "text": [
      "1 1\n",
      "1 2\n",
      "1 3\n",
      "1 4\n",
      "2 1\n",
      "2 2\n",
      "2 3\n",
      "2 4\n",
      "3 1\n",
      "3 2\n",
      "3 3\n",
      "3 4\n",
      "4 1\n",
      "4 2\n",
      "4 3\n",
      "4 4\n"
     ]
    }
   ],
   "source": [
    "for i in range(1,5):\n",
    "  for j in range(1,5):\n",
    "    print(i,j)"
   ]
  },
  {
   "cell_type": "markdown",
   "id": "1aeaca9d",
   "metadata": {},
   "source": [
    "# Patterns"
   ]
  },
  {
   "cell_type": "code",
   "execution_count": 7,
   "id": "83957558",
   "metadata": {},
   "outputs": [],
   "source": [
    "#pattern 1\n"
   ]
  },
  {
   "cell_type": "raw",
   "id": "07c1e937",
   "metadata": {},
   "source": [
    "*\n",
    "**\n",
    "***\n"
   ]
  },
  {
   "cell_type": "code",
   "execution_count": 9,
   "id": "d78c0ea8",
   "metadata": {},
   "outputs": [
    {
     "name": "stdout",
     "output_type": "stream",
     "text": [
      "enter number of rows3\n",
      "*\n",
      "**\n",
      "***\n"
     ]
    }
   ],
   "source": [
    "rows = int(input('enter number of rows'))\n",
    "\n",
    "for i in range(1,rows+1):\n",
    "  for j in range(1,i+1):\n",
    "    print('*',end='')\n",
    "  print()"
   ]
  },
  {
   "cell_type": "code",
   "execution_count": 10,
   "id": "9b66b0e3",
   "metadata": {},
   "outputs": [],
   "source": [
    "#pattern 2"
   ]
  },
  {
   "cell_type": "raw",
   "id": "9d233105",
   "metadata": {},
   "source": [
    "1\n",
    "121\n",
    "12321\n",
    "1234321"
   ]
  },
  {
   "cell_type": "code",
   "execution_count": 11,
   "id": "b4c66a9f",
   "metadata": {},
   "outputs": [
    {
     "name": "stdout",
     "output_type": "stream",
     "text": [
      "enter number of rows4\n",
      "1\n",
      "121\n",
      "12321\n",
      "1234321\n"
     ]
    }
   ],
   "source": [
    "rows = int(input('enter number of rows'))\n",
    "\n",
    "for i in range(1,rows+1):\n",
    "  for j in range(1,i+1):\n",
    "    print(j,end='')\n",
    "  for k in range(i-1,0,-1):\n",
    "    print(k,end='')\n",
    "\n",
    "  print()\n"
   ]
  },
  {
   "cell_type": "markdown",
   "id": "65818151",
   "metadata": {},
   "source": [
    "# Loop Control Statement"
   ]
  },
  {
   "cell_type": "raw",
   "id": "c93ae3c6",
   "metadata": {},
   "source": [
    "Break\n",
    "Continue\n",
    "Pass"
   ]
  },
  {
   "cell_type": "code",
   "execution_count": 12,
   "id": "c64dc181",
   "metadata": {},
   "outputs": [
    {
     "name": "stdout",
     "output_type": "stream",
     "text": [
      "1\n",
      "2\n",
      "3\n",
      "4\n"
     ]
    }
   ],
   "source": [
    "for i in range(1,10):\n",
    "  if i == 5:\n",
    "    break\n",
    "  print(i)"
   ]
  },
  {
   "cell_type": "code",
   "execution_count": 13,
   "id": "48deb8a1",
   "metadata": {},
   "outputs": [
    {
     "name": "stdout",
     "output_type": "stream",
     "text": [
      "enter lower range15\n",
      "enter upper range34\n",
      "17\n",
      "19\n",
      "23\n",
      "29\n",
      "31\n"
     ]
    }
   ],
   "source": [
    "lower = int(input('enter lower range'))\n",
    "upper = int(input('enter upper range'))\n",
    "\n",
    "for i in range(lower,upper+1):\n",
    "  for j in range(2,i):\n",
    "    if i%j == 0:\n",
    "      break\n",
    "  else:\n",
    "    print(i)"
   ]
  },
  {
   "cell_type": "code",
   "execution_count": 14,
   "id": "fde59e90",
   "metadata": {},
   "outputs": [
    {
     "name": "stdout",
     "output_type": "stream",
     "text": [
      "1\n",
      "2\n",
      "3\n",
      "4\n",
      "6\n",
      "7\n",
      "8\n",
      "9\n"
     ]
    }
   ],
   "source": [
    "for i in range(1,10):\n",
    "  if i == 5:\n",
    "    continue\n",
    "  print(i)"
   ]
  },
  {
   "cell_type": "code",
   "execution_count": 15,
   "id": "590304e9",
   "metadata": {},
   "outputs": [],
   "source": [
    "for i in range(1,10):\n",
    "  pass"
   ]
  },
  {
   "cell_type": "markdown",
   "id": "8f7538a1",
   "metadata": {},
   "source": [
    "# strings "
   ]
  },
  {
   "cell_type": "raw",
   "id": "19103383",
   "metadata": {},
   "source": [
    "Strings are sequence of Characters\n",
    "\n",
    "In Python specifically, strings are a sequence of Unicode Characters\n",
    "\n",
    "Creating Strings\n",
    "Accessing Strings\n",
    "Adding Chars to Strings\n",
    "Editing Strings\n",
    "Deleting Strings\n",
    "Operations on Strings\n",
    "String Functions"
   ]
  },
  {
   "cell_type": "code",
   "execution_count": 17,
   "id": "c6fee118",
   "metadata": {},
   "outputs": [],
   "source": [
    "#creating strings"
   ]
  },
  {
   "cell_type": "code",
   "execution_count": 18,
   "id": "8675f566",
   "metadata": {},
   "outputs": [
    {
     "name": "stdout",
     "output_type": "stream",
     "text": [
      "hello\n"
     ]
    }
   ],
   "source": [
    "s = 'hello'\n",
    "s = \"hello\"\n",
    "# multiline strings\n",
    "s = '''hello'''\n",
    "s = \"\"\"hello\"\"\"\n",
    "s = str('hello')\n",
    "print(s)"
   ]
  },
  {
   "cell_type": "code",
   "execution_count": 20,
   "id": "2f16e793",
   "metadata": {},
   "outputs": [
    {
     "data": {
      "text/plain": [
       "\"it's raining inside\""
      ]
     },
     "execution_count": 20,
     "metadata": {},
     "output_type": "execute_result"
    }
   ],
   "source": [
    "\"it's raining inside\""
   ]
  },
  {
   "cell_type": "code",
   "execution_count": 21,
   "id": "c82fcd27",
   "metadata": {},
   "outputs": [],
   "source": [
    "#accesing strings"
   ]
  },
  {
   "cell_type": "code",
   "execution_count": 22,
   "id": "a6a7c183",
   "metadata": {},
   "outputs": [
    {
     "name": "stdout",
     "output_type": "stream",
     "text": [
      "o\n"
     ]
    }
   ],
   "source": [
    "# Positive Indexing\n",
    "s = 'hello world'\n",
    "print(s[4])"
   ]
  },
  {
   "cell_type": "code",
   "execution_count": 23,
   "id": "a7999a0c",
   "metadata": {},
   "outputs": [
    {
     "name": "stdout",
     "output_type": "stream",
     "text": [
      "r\n"
     ]
    }
   ],
   "source": [
    "# Negative Indexing\n",
    "s = 'hello world'\n",
    "print(s[-3])"
   ]
  },
  {
   "cell_type": "code",
   "execution_count": 24,
   "id": "98539807",
   "metadata": {},
   "outputs": [
    {
     "name": "stdout",
     "output_type": "stream",
     "text": [
      "wol\n"
     ]
    }
   ],
   "source": [
    "# Slicing\n",
    "s = 'hello world'\n",
    "print(s[6:0:-2])"
   ]
  },
  {
   "cell_type": "code",
   "execution_count": 25,
   "id": "3db0c934",
   "metadata": {},
   "outputs": [
    {
     "name": "stdout",
     "output_type": "stream",
     "text": [
      "dlrow olleh\n"
     ]
    }
   ],
   "source": [
    "print(s[::-1])"
   ]
  },
  {
   "cell_type": "code",
   "execution_count": 26,
   "id": "a1d3c95e",
   "metadata": {},
   "outputs": [
    {
     "name": "stdout",
     "output_type": "stream",
     "text": [
      "dlrow\n"
     ]
    }
   ],
   "source": [
    "s = 'hello world'\n",
    "print(s[-1:-6:-1])"
   ]
  },
  {
   "cell_type": "markdown",
   "id": "4c58a84c",
   "metadata": {},
   "source": [
    "# Editing and Deleting in Strings"
   ]
  },
  {
   "cell_type": "code",
   "execution_count": 27,
   "id": "931dc49b",
   "metadata": {},
   "outputs": [
    {
     "ename": "TypeError",
     "evalue": "'str' object does not support item assignment",
     "output_type": "error",
     "traceback": [
      "\u001b[1;31m---------------------------------------------------------------------------\u001b[0m",
      "\u001b[1;31mTypeError\u001b[0m                                 Traceback (most recent call last)",
      "Cell \u001b[1;32mIn[27], line 2\u001b[0m\n\u001b[0;32m      1\u001b[0m s \u001b[38;5;241m=\u001b[39m \u001b[38;5;124m'\u001b[39m\u001b[38;5;124mhello world\u001b[39m\u001b[38;5;124m'\u001b[39m\n\u001b[1;32m----> 2\u001b[0m s[\u001b[38;5;241m0\u001b[39m] \u001b[38;5;241m=\u001b[39m \u001b[38;5;124m'\u001b[39m\u001b[38;5;124mH\u001b[39m\u001b[38;5;124m'\u001b[39m\n",
      "\u001b[1;31mTypeError\u001b[0m: 'str' object does not support item assignment"
     ]
    }
   ],
   "source": [
    "s = 'hello world'\n",
    "s[0] = 'H'\n",
    "\n",
    "# Python strings are immutable"
   ]
  },
  {
   "cell_type": "code",
   "execution_count": 28,
   "id": "d2c5dffa",
   "metadata": {},
   "outputs": [
    {
     "ename": "NameError",
     "evalue": "name 's' is not defined",
     "output_type": "error",
     "traceback": [
      "\u001b[1;31m---------------------------------------------------------------------------\u001b[0m",
      "\u001b[1;31mNameError\u001b[0m                                 Traceback (most recent call last)",
      "Cell \u001b[1;32mIn[28], line 3\u001b[0m\n\u001b[0;32m      1\u001b[0m s \u001b[38;5;241m=\u001b[39m \u001b[38;5;124m'\u001b[39m\u001b[38;5;124mhello world\u001b[39m\u001b[38;5;124m'\u001b[39m\n\u001b[0;32m      2\u001b[0m \u001b[38;5;28;01mdel\u001b[39;00m s\n\u001b[1;32m----> 3\u001b[0m \u001b[38;5;28mprint\u001b[39m(\u001b[43ms\u001b[49m)\n",
      "\u001b[1;31mNameError\u001b[0m: name 's' is not defined"
     ]
    }
   ],
   "source": [
    "s = 'hello world'\n",
    "del s\n",
    "print(s)"
   ]
  },
  {
   "cell_type": "code",
   "execution_count": 29,
   "id": "b418617a",
   "metadata": {},
   "outputs": [
    {
     "ename": "TypeError",
     "evalue": "'str' object does not support item deletion",
     "output_type": "error",
     "traceback": [
      "\u001b[1;31m---------------------------------------------------------------------------\u001b[0m",
      "\u001b[1;31mTypeError\u001b[0m                                 Traceback (most recent call last)",
      "Cell \u001b[1;32mIn[29], line 2\u001b[0m\n\u001b[0;32m      1\u001b[0m s \u001b[38;5;241m=\u001b[39m \u001b[38;5;124m'\u001b[39m\u001b[38;5;124mhello world\u001b[39m\u001b[38;5;124m'\u001b[39m\n\u001b[1;32m----> 2\u001b[0m \u001b[38;5;28;01mdel\u001b[39;00m s[\u001b[38;5;241m-\u001b[39m\u001b[38;5;241m1\u001b[39m:\u001b[38;5;241m-\u001b[39m\u001b[38;5;241m5\u001b[39m:\u001b[38;5;241m2\u001b[39m]\n\u001b[0;32m      3\u001b[0m \u001b[38;5;28mprint\u001b[39m(s)\n",
      "\u001b[1;31mTypeError\u001b[0m: 'str' object does not support item deletion"
     ]
    }
   ],
   "source": [
    "s = 'hello world'\n",
    "del s[-1:-5:2]\n",
    "print(s)"
   ]
  },
  {
   "cell_type": "raw",
   "id": "4e11ee61",
   "metadata": {},
   "source": [
    "#Operations on Strings\n",
    "\n",
    "1. Arithmetic Operations\n",
    "2. Relational Operations\n",
    "3. Logical Operations\n",
    "4. Loops on Strings\n",
    "5. Membership Operations"
   ]
  },
  {
   "cell_type": "code",
   "execution_count": 30,
   "id": "226afef2",
   "metadata": {},
   "outputs": [
    {
     "name": "stdout",
     "output_type": "stream",
     "text": [
      "delhi mumbai\n"
     ]
    }
   ],
   "source": [
    "print('delhi' + ' ' + 'mumbai')"
   ]
  },
  {
   "cell_type": "code",
   "execution_count": 31,
   "id": "a7e685e3",
   "metadata": {},
   "outputs": [
    {
     "name": "stdout",
     "output_type": "stream",
     "text": [
      "delhidelhidelhidelhidelhi\n"
     ]
    }
   ],
   "source": [
    "print('delhi'*5)"
   ]
  },
  {
   "cell_type": "code",
   "execution_count": 32,
   "id": "611c03bb",
   "metadata": {},
   "outputs": [
    {
     "name": "stdout",
     "output_type": "stream",
     "text": [
      "**************************************************\n"
     ]
    }
   ],
   "source": [
    "print(\"*\"*50)"
   ]
  },
  {
   "cell_type": "code",
   "execution_count": 33,
   "id": "7b32310b",
   "metadata": {},
   "outputs": [
    {
     "data": {
      "text/plain": [
       "False"
      ]
     },
     "execution_count": 33,
     "metadata": {},
     "output_type": "execute_result"
    }
   ],
   "source": [
    "'delhi' != 'delhi'"
   ]
  },
  {
   "cell_type": "code",
   "execution_count": 34,
   "id": "0a2dd06e",
   "metadata": {},
   "outputs": [
    {
     "data": {
      "text/plain": [
       "False"
      ]
     },
     "execution_count": 34,
     "metadata": {},
     "output_type": "execute_result"
    }
   ],
   "source": [
    "'mumbai' > 'pune'\n",
    "# lexiographically"
   ]
  },
  {
   "cell_type": "code",
   "execution_count": 35,
   "id": "8aec75f8",
   "metadata": {},
   "outputs": [
    {
     "data": {
      "text/plain": [
       "False"
      ]
     },
     "execution_count": 35,
     "metadata": {},
     "output_type": "execute_result"
    }
   ],
   "source": [
    "'Pune' > 'pune'"
   ]
  },
  {
   "cell_type": "code",
   "execution_count": 36,
   "id": "081edd7e",
   "metadata": {},
   "outputs": [
    {
     "data": {
      "text/plain": [
       "'world'"
      ]
     },
     "execution_count": 36,
     "metadata": {},
     "output_type": "execute_result"
    }
   ],
   "source": [
    "'hello' and 'world'"
   ]
  },
  {
   "cell_type": "code",
   "execution_count": 37,
   "id": "f872876b",
   "metadata": {},
   "outputs": [
    {
     "data": {
      "text/plain": [
       "'hello'"
      ]
     },
     "execution_count": 37,
     "metadata": {},
     "output_type": "execute_result"
    }
   ],
   "source": [
    "'hello' or 'world'"
   ]
  },
  {
   "cell_type": "code",
   "execution_count": 38,
   "id": "4501e227",
   "metadata": {},
   "outputs": [
    {
     "data": {
      "text/plain": [
       "''"
      ]
     },
     "execution_count": 38,
     "metadata": {},
     "output_type": "execute_result"
    }
   ],
   "source": [
    "'' and 'world'"
   ]
  },
  {
   "cell_type": "code",
   "execution_count": 39,
   "id": "668a840e",
   "metadata": {},
   "outputs": [
    {
     "data": {
      "text/plain": [
       "'world'"
      ]
     },
     "execution_count": 39,
     "metadata": {},
     "output_type": "execute_result"
    }
   ],
   "source": [
    "'' or 'world'"
   ]
  },
  {
   "cell_type": "code",
   "execution_count": 40,
   "id": "beb0fdb6",
   "metadata": {},
   "outputs": [
    {
     "data": {
      "text/plain": [
       "'hello'"
      ]
     },
     "execution_count": 40,
     "metadata": {},
     "output_type": "execute_result"
    }
   ],
   "source": [
    "'hello' or 'world'"
   ]
  },
  {
   "cell_type": "code",
   "execution_count": 41,
   "id": "44b591ee",
   "metadata": {},
   "outputs": [
    {
     "data": {
      "text/plain": [
       "'world'"
      ]
     },
     "execution_count": 41,
     "metadata": {},
     "output_type": "execute_result"
    }
   ],
   "source": [
    "'hello' and 'world'"
   ]
  },
  {
   "cell_type": "code",
   "execution_count": 42,
   "id": "4089303c",
   "metadata": {},
   "outputs": [
    {
     "data": {
      "text/plain": [
       "False"
      ]
     },
     "execution_count": 42,
     "metadata": {},
     "output_type": "execute_result"
    }
   ],
   "source": [
    "not 'hello'"
   ]
  },
  {
   "cell_type": "code",
   "execution_count": 43,
   "id": "146686fb",
   "metadata": {},
   "outputs": [
    {
     "name": "stdout",
     "output_type": "stream",
     "text": [
      "h\n",
      "e\n",
      "l\n",
      "l\n",
      "o\n"
     ]
    }
   ],
   "source": [
    "for i in 'hello':\n",
    "  print(i)"
   ]
  },
  {
   "cell_type": "code",
   "execution_count": 44,
   "id": "1fb255f0",
   "metadata": {},
   "outputs": [
    {
     "name": "stdout",
     "output_type": "stream",
     "text": [
      "pune\n",
      "pune\n",
      "pune\n",
      "pune\n",
      "pune\n"
     ]
    }
   ],
   "source": [
    "for i in 'delhi':\n",
    "  print('pune')"
   ]
  },
  {
   "cell_type": "code",
   "execution_count": 45,
   "id": "04ce976b",
   "metadata": {},
   "outputs": [
    {
     "data": {
      "text/plain": [
       "False"
      ]
     },
     "execution_count": 45,
     "metadata": {},
     "output_type": "execute_result"
    }
   ],
   "source": [
    "'D' in 'delhi'"
   ]
  },
  {
   "cell_type": "raw",
   "id": "4a43ce00",
   "metadata": {},
   "source": [
    "#Common Functions\n",
    "1. len\n",
    "2. max\n",
    "3. min\n",
    "4. sorted"
   ]
  },
  {
   "cell_type": "code",
   "execution_count": 46,
   "id": "d4635e2c",
   "metadata": {},
   "outputs": [
    {
     "data": {
      "text/plain": [
       "11"
      ]
     },
     "execution_count": 46,
     "metadata": {},
     "output_type": "execute_result"
    }
   ],
   "source": [
    "len('hello world')"
   ]
  },
  {
   "cell_type": "code",
   "execution_count": 47,
   "id": "f5199528",
   "metadata": {},
   "outputs": [
    {
     "data": {
      "text/plain": [
       "'w'"
      ]
     },
     "execution_count": 47,
     "metadata": {},
     "output_type": "execute_result"
    }
   ],
   "source": [
    "max('hello world')"
   ]
  },
  {
   "cell_type": "code",
   "execution_count": 48,
   "id": "056d3609",
   "metadata": {},
   "outputs": [
    {
     "data": {
      "text/plain": [
       "' '"
      ]
     },
     "execution_count": 48,
     "metadata": {},
     "output_type": "execute_result"
    }
   ],
   "source": [
    "min('hello world')"
   ]
  },
  {
   "cell_type": "code",
   "execution_count": 49,
   "id": "2c646448",
   "metadata": {},
   "outputs": [
    {
     "data": {
      "text/plain": [
       "['w', 'r', 'o', 'o', 'l', 'l', 'l', 'h', 'e', 'd', ' ']"
      ]
     },
     "execution_count": 49,
     "metadata": {},
     "output_type": "execute_result"
    }
   ],
   "source": [
    "sorted('hello world',reverse=True)"
   ]
  },
  {
   "cell_type": "raw",
   "id": "f4de21a9",
   "metadata": {},
   "source": [
    "Capitalize/Title/Upper/Lower/Swapcase"
   ]
  },
  {
   "cell_type": "code",
   "execution_count": 50,
   "id": "0e766ed4",
   "metadata": {},
   "outputs": [
    {
     "name": "stdout",
     "output_type": "stream",
     "text": [
      "Hello world\n",
      "hello world\n"
     ]
    }
   ],
   "source": [
    "s = 'hello world'\n",
    "print(s.capitalize())\n",
    "print(s)"
   ]
  },
  {
   "cell_type": "code",
   "execution_count": 51,
   "id": "f09aa01f",
   "metadata": {},
   "outputs": [
    {
     "data": {
      "text/plain": [
       "'Hello World'"
      ]
     },
     "execution_count": 51,
     "metadata": {},
     "output_type": "execute_result"
    }
   ],
   "source": [
    "s.title()"
   ]
  },
  {
   "cell_type": "code",
   "execution_count": 52,
   "id": "4eae227e",
   "metadata": {},
   "outputs": [
    {
     "data": {
      "text/plain": [
       "'HELLO WORLD'"
      ]
     },
     "execution_count": 52,
     "metadata": {},
     "output_type": "execute_result"
    }
   ],
   "source": [
    "s.upper()"
   ]
  },
  {
   "cell_type": "code",
   "execution_count": 53,
   "id": "fe0067eb",
   "metadata": {},
   "outputs": [
    {
     "data": {
      "text/plain": [
       "'hello world'"
      ]
     },
     "execution_count": 53,
     "metadata": {},
     "output_type": "execute_result"
    }
   ],
   "source": [
    "s.lower()"
   ]
  },
  {
   "cell_type": "code",
   "execution_count": 54,
   "id": "04f0ddef",
   "metadata": {},
   "outputs": [
    {
     "data": {
      "text/plain": [
       "'hello wolrd'"
      ]
     },
     "execution_count": 54,
     "metadata": {},
     "output_type": "execute_result"
    }
   ],
   "source": [
    "'Hello Wolrd'.lower()"
   ]
  },
  {
   "cell_type": "code",
   "execution_count": 55,
   "id": "61982b63",
   "metadata": {},
   "outputs": [
    {
     "data": {
      "text/plain": [
       "'HELLO WORLD'"
      ]
     },
     "execution_count": 55,
     "metadata": {},
     "output_type": "execute_result"
    }
   ],
   "source": [
    "s.swapcase()"
   ]
  },
  {
   "cell_type": "code",
   "execution_count": 56,
   "id": "b6614184",
   "metadata": {},
   "outputs": [
    {
     "data": {
      "text/plain": [
       "'hElLo wORld'"
      ]
     },
     "execution_count": 56,
     "metadata": {},
     "output_type": "execute_result"
    }
   ],
   "source": [
    "'HeLlO WorLD'.swapcase()"
   ]
  },
  {
   "cell_type": "raw",
   "id": "7c05c347",
   "metadata": {},
   "source": [
    "Count/Find/Index"
   ]
  },
  {
   "cell_type": "code",
   "execution_count": 80,
   "id": "dea1093f",
   "metadata": {},
   "outputs": [
    {
     "data": {
      "text/plain": [
       "1"
      ]
     },
     "execution_count": 80,
     "metadata": {},
     "output_type": "execute_result"
    }
   ],
   "source": [
    "'my name is pallav'.count('i')"
   ]
  },
  {
   "cell_type": "code",
   "execution_count": 81,
   "id": "fa2c63ca",
   "metadata": {},
   "outputs": [
    {
     "data": {
      "text/plain": [
       "-1"
      ]
     },
     "execution_count": 81,
     "metadata": {},
     "output_type": "execute_result"
    }
   ],
   "source": [
    "'my name is pallav'.find('x')"
   ]
  },
  {
   "cell_type": "code",
   "execution_count": 82,
   "id": "38442a38",
   "metadata": {},
   "outputs": [
    {
     "ename": "ValueError",
     "evalue": "substring not found",
     "output_type": "error",
     "traceback": [
      "\u001b[1;31m---------------------------------------------------------------------------\u001b[0m",
      "\u001b[1;31mValueError\u001b[0m                                Traceback (most recent call last)",
      "Cell \u001b[1;32mIn[82], line 1\u001b[0m\n\u001b[1;32m----> 1\u001b[0m \u001b[38;5;124;43m'\u001b[39;49m\u001b[38;5;124;43mmy name is pallav\u001b[39;49m\u001b[38;5;124;43m'\u001b[39;49m\u001b[38;5;241;43m.\u001b[39;49m\u001b[43mindex\u001b[49m\u001b[43m(\u001b[49m\u001b[38;5;124;43m'\u001b[39;49m\u001b[38;5;124;43mx\u001b[39;49m\u001b[38;5;124;43m'\u001b[39;49m\u001b[43m)\u001b[49m\n",
      "\u001b[1;31mValueError\u001b[0m: substring not found"
     ]
    }
   ],
   "source": [
    "'my name is pallav'.index('x')"
   ]
  },
  {
   "cell_type": "raw",
   "id": "fe3f51e4",
   "metadata": {},
   "source": [
    "endswith/startswith"
   ]
  },
  {
   "cell_type": "code",
   "execution_count": 83,
   "id": "96ea2a54",
   "metadata": {},
   "outputs": [
    {
     "data": {
      "text/plain": [
       "False"
      ]
     },
     "execution_count": 83,
     "metadata": {},
     "output_type": "execute_result"
    }
   ],
   "source": [
    "'my name is pallav'.endswith('sho')"
   ]
  },
  {
   "cell_type": "code",
   "execution_count": 84,
   "id": "4aa6a7bd",
   "metadata": {},
   "outputs": [
    {
     "data": {
      "text/plain": [
       "False"
      ]
     },
     "execution_count": 84,
     "metadata": {},
     "output_type": "execute_result"
    }
   ],
   "source": [
    "'my name is pallav'.startswith('1my')"
   ]
  },
  {
   "cell_type": "raw",
   "id": "a5598b89",
   "metadata": {},
   "source": [
    "format"
   ]
  },
  {
   "cell_type": "code",
   "execution_count": 85,
   "id": "879ba54c",
   "metadata": {},
   "outputs": [
    {
     "data": {
      "text/plain": [
       "'Hi my name is pallav and I am a male'"
      ]
     },
     "execution_count": 85,
     "metadata": {},
     "output_type": "execute_result"
    }
   ],
   "source": [
    "name = 'pallav'\n",
    "gender = 'male'\n",
    "\n",
    "'Hi my name is {1} and I am a {0}'.format(gender,name)"
   ]
  },
  {
   "cell_type": "raw",
   "id": "e2fbee2d",
   "metadata": {},
   "source": [
    "isalnum/ isalpha/ isdigit/ isidentifier"
   ]
  },
  {
   "cell_type": "code",
   "execution_count": 86,
   "id": "89e928f3",
   "metadata": {},
   "outputs": [
    {
     "data": {
      "text/plain": [
       "False"
      ]
     },
     "execution_count": 86,
     "metadata": {},
     "output_type": "execute_result"
    }
   ],
   "source": [
    "'pallav1234%'.isalnum()"
   ]
  },
  {
   "cell_type": "code",
   "execution_count": 87,
   "id": "e91936ad",
   "metadata": {},
   "outputs": [
    {
     "data": {
      "text/plain": [
       "True"
      ]
     },
     "execution_count": 87,
     "metadata": {},
     "output_type": "execute_result"
    }
   ],
   "source": [
    "'pallav'.isalpha()"
   ]
  },
  {
   "cell_type": "code",
   "execution_count": 65,
   "id": "40b61294",
   "metadata": {},
   "outputs": [
    {
     "data": {
      "text/plain": [
       "False"
      ]
     },
     "execution_count": 65,
     "metadata": {},
     "output_type": "execute_result"
    }
   ],
   "source": [
    "'123abc'.isdigit()"
   ]
  },
  {
   "cell_type": "code",
   "execution_count": 66,
   "id": "be18624c",
   "metadata": {},
   "outputs": [
    {
     "data": {
      "text/plain": [
       "False"
      ]
     },
     "execution_count": 66,
     "metadata": {},
     "output_type": "execute_result"
    }
   ],
   "source": [
    "'first-name'.isidentifier()"
   ]
  },
  {
   "cell_type": "raw",
   "id": "b9382a5d",
   "metadata": {},
   "source": [
    "Split/Join"
   ]
  },
  {
   "cell_type": "code",
   "execution_count": 88,
   "id": "3f9c54d2",
   "metadata": {},
   "outputs": [
    {
     "data": {
      "text/plain": [
       "['hi', 'my', 'name', 'is', 'pallav']"
      ]
     },
     "execution_count": 88,
     "metadata": {},
     "output_type": "execute_result"
    }
   ],
   "source": [
    "'hi my name is pallav'.split()"
   ]
  },
  {
   "cell_type": "code",
   "execution_count": 89,
   "id": "bde4c290",
   "metadata": {},
   "outputs": [
    {
     "data": {
      "text/plain": [
       "'hi my name is pallav'"
      ]
     },
     "execution_count": 89,
     "metadata": {},
     "output_type": "execute_result"
    }
   ],
   "source": [
    "\" \".join(['hi', 'my', 'name', 'is', 'pallav'])"
   ]
  },
  {
   "cell_type": "raw",
   "id": "2cb51598",
   "metadata": {},
   "source": [
    "Replace"
   ]
  },
  {
   "cell_type": "code",
   "execution_count": 90,
   "id": "0e89e3f6",
   "metadata": {},
   "outputs": [
    {
     "data": {
      "text/plain": [
       "'hi my name is nitish'"
      ]
     },
     "execution_count": 90,
     "metadata": {},
     "output_type": "execute_result"
    }
   ],
   "source": [
    "'hi my name is nitish'.replace('pallav','Drj')"
   ]
  },
  {
   "cell_type": "code",
   "execution_count": 91,
   "id": "ac9da568",
   "metadata": {},
   "outputs": [
    {
     "data": {
      "text/plain": [
       "'pallav'"
      ]
     },
     "execution_count": 91,
     "metadata": {},
     "output_type": "execute_result"
    }
   ],
   "source": [
    "'pallav                          '.strip()"
   ]
  },
  {
   "cell_type": "raw",
   "id": "c87306d3",
   "metadata": {},
   "source": [
    "Example Program\n"
   ]
  },
  {
   "cell_type": "code",
   "execution_count": 71,
   "id": "578ff157",
   "metadata": {},
   "outputs": [
    {
     "name": "stdout",
     "output_type": "stream",
     "text": [
      "enter the stringPallav\n",
      "length of string is 6\n"
     ]
    }
   ],
   "source": [
    "# Find the length of a given string without using the len() function\n",
    "\n",
    "s = input('enter the string')\n",
    "\n",
    "counter = 0\n",
    "\n",
    "for i in s:\n",
    "  counter += 1\n",
    "\n",
    "print('length of string is',counter)"
   ]
  },
  {
   "cell_type": "code",
   "execution_count": 72,
   "id": "d90f7f57",
   "metadata": {},
   "outputs": [
    {
     "name": "stdout",
     "output_type": "stream",
     "text": [
      "enter the emailpallavdrj7533@gmail.com\n",
      "pallavdrj7533\n"
     ]
    }
   ],
   "source": [
    "# Extract username from a given email. \n",
    "s = input('enter the email')\n",
    "\n",
    "pos = s.index('@')\n",
    "print(s[0:pos])\n",
    "\n"
   ]
  },
  {
   "cell_type": "code",
   "execution_count": 73,
   "id": "a6b4303f",
   "metadata": {},
   "outputs": [
    {
     "name": "stdout",
     "output_type": "stream",
     "text": [
      "enter the emailpallavdrj7533@gmail.com\n",
      "what would like to search for75\n",
      "frequency 0\n"
     ]
    }
   ],
   "source": [
    "# Count the frequency of a particular character in a provided string. \n",
    "\n",
    "s = input('enter the email')\n",
    "term = input('what would like to search for')\n",
    "\n",
    "counter = 0\n",
    "for i in s:\n",
    "  if i == term:\n",
    "    counter += 1\n",
    "\n",
    "print('frequency',counter)\n"
   ]
  },
  {
   "cell_type": "code",
   "execution_count": 74,
   "id": "e1753305",
   "metadata": {},
   "outputs": [
    {
     "name": "stdout",
     "output_type": "stream",
     "text": [
      "enter the stringpallahjs\n",
      "what would like to removella\n",
      "pallahjs\n"
     ]
    }
   ],
   "source": [
    "# Write a program which can remove a particular character from a string.\n",
    "\n",
    "s = input('enter the string')\n",
    "term = input('what would like to remove')\n",
    "\n",
    "result = ''\n",
    "\n",
    "for i in s:\n",
    "  if i != term:\n",
    "    result = result + i\n",
    "\n",
    "print(result)"
   ]
  },
  {
   "cell_type": "code",
   "execution_count": 75,
   "id": "bd92f120",
   "metadata": {},
   "outputs": [
    {
     "name": "stdout",
     "output_type": "stream",
     "text": [
      "enter the stringpalasdlfffsdf\n",
      "Not a Palindrome\n"
     ]
    }
   ],
   "source": [
    "# Write a program that can check whether a given string is palindrome or not.\n",
    "\n",
    "s = input('enter the string')\n",
    "flag = True\n",
    "for i in range(0,len(s)//2):\n",
    "  if s[i] != s[len(s) - i -1]:\n",
    "    flag = False\n",
    "    print('Not a Palindrome')\n",
    "    break\n",
    "\n",
    "if flag:\n",
    "  print('Palindrome')\n",
    "\n"
   ]
  },
  {
   "cell_type": "code",
   "execution_count": 76,
   "id": "f53ca94d",
   "metadata": {},
   "outputs": [
    {
     "name": "stdout",
     "output_type": "stream",
     "text": [
      "enter the stringpdfeggge\n",
      "['pdfeggge']\n"
     ]
    }
   ],
   "source": [
    "# Write a program to count the number of words in a string without split()\n",
    "\n",
    "s = input('enter the string')\n",
    "L = []\n",
    "temp = ''\n",
    "for i in s:\n",
    "\n",
    "  if i != ' ':\n",
    "    temp = temp + i\n",
    "  else:\n",
    "    L.append(temp)\n",
    "    temp = ''\n",
    "\n",
    "L.append(temp)\n",
    "print(L)\n",
    "\n"
   ]
  },
  {
   "cell_type": "code",
   "execution_count": 78,
   "id": "765879a5",
   "metadata": {},
   "outputs": [
    {
     "name": "stdout",
     "output_type": "stream",
     "text": [
      "enter the stringdsdvfsddsfsd\n",
      "Dsdvfsddsfsd\n"
     ]
    }
   ],
   "source": [
    "# Write a python program to convert a string to title case without using the title()\n",
    "s = input('enter the string')\n",
    "\n",
    "L = []\n",
    "for i in s.split():\n",
    "  L.append(i[0].upper() + i[1:].lower())\n",
    "\n",
    "print(\" \".join(L))"
   ]
  },
  {
   "cell_type": "code",
   "execution_count": 79,
   "id": "388128f5",
   "metadata": {},
   "outputs": [
    {
     "name": "stdout",
     "output_type": "stream",
     "text": [
      "enter the number4312312343434234\n",
      "4312312343434234\n",
      "<class 'str'>\n"
     ]
    }
   ],
   "source": [
    "# Write a program that can convert an integer to string.\n",
    "\n",
    "number = int(input('enter the number'))\n",
    "\n",
    "digits = '0123456789'\n",
    "result = ''\n",
    "while number != 0:\n",
    "  result = digits[number % 10] + result\n",
    "  number = number//10\n",
    "\n",
    "print(result)\n",
    "print(type(result))"
   ]
  },
  {
   "cell_type": "code",
   "execution_count": null,
   "id": "0b4affd5",
   "metadata": {},
   "outputs": [],
   "source": []
  }
 ],
 "metadata": {
  "kernelspec": {
   "display_name": "Python 3 (ipykernel)",
   "language": "python",
   "name": "python3"
  },
  "language_info": {
   "codemirror_mode": {
    "name": "ipython",
    "version": 3
   },
   "file_extension": ".py",
   "mimetype": "text/x-python",
   "name": "python",
   "nbconvert_exporter": "python",
   "pygments_lexer": "ipython3",
   "version": "3.10.13"
  }
 },
 "nbformat": 4,
 "nbformat_minor": 5
}
