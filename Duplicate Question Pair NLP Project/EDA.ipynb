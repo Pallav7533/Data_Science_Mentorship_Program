{
 "cells": [
  {
   "cell_type": "code",
   "execution_count": 1,
   "id": "ea1dc5f3",
   "metadata": {},
   "outputs": [],
   "source": [
    "import numpy as np\n",
    "import pandas as pd\n",
    "import seaborn as sns\n",
    "import matplotlib.pyplot as plt"
   ]
  },
  {
   "cell_type": "code",
   "execution_count": 2,
   "id": "02f4bb65",
   "metadata": {},
   "outputs": [],
   "source": [
    "df = pd.read_csv(\"train.csv\")\n"
   ]
  },
  {
   "cell_type": "code",
   "execution_count": 3,
   "id": "0cbdc537",
   "metadata": {},
   "outputs": [
    {
     "data": {
      "text/html": [
       "<div>\n",
       "<style scoped>\n",
       "    .dataframe tbody tr th:only-of-type {\n",
       "        vertical-align: middle;\n",
       "    }\n",
       "\n",
       "    .dataframe tbody tr th {\n",
       "        vertical-align: top;\n",
       "    }\n",
       "\n",
       "    .dataframe thead th {\n",
       "        text-align: right;\n",
       "    }\n",
       "</style>\n",
       "<table border=\"1\" class=\"dataframe\">\n",
       "  <thead>\n",
       "    <tr style=\"text-align: right;\">\n",
       "      <th></th>\n",
       "      <th>id</th>\n",
       "      <th>qid1</th>\n",
       "      <th>qid2</th>\n",
       "      <th>question1</th>\n",
       "      <th>question2</th>\n",
       "      <th>is_duplicate</th>\n",
       "    </tr>\n",
       "  </thead>\n",
       "  <tbody>\n",
       "    <tr>\n",
       "      <th>0</th>\n",
       "      <td>0</td>\n",
       "      <td>1</td>\n",
       "      <td>2</td>\n",
       "      <td>What is the step by step guide to invest in sh...</td>\n",
       "      <td>What is the step by step guide to invest in sh...</td>\n",
       "      <td>0</td>\n",
       "    </tr>\n",
       "    <tr>\n",
       "      <th>1</th>\n",
       "      <td>1</td>\n",
       "      <td>3</td>\n",
       "      <td>4</td>\n",
       "      <td>What is the story of Kohinoor (Koh-i-Noor) Dia...</td>\n",
       "      <td>What would happen if the Indian government sto...</td>\n",
       "      <td>0</td>\n",
       "    </tr>\n",
       "    <tr>\n",
       "      <th>2</th>\n",
       "      <td>2</td>\n",
       "      <td>5</td>\n",
       "      <td>6</td>\n",
       "      <td>How can I increase the speed of my internet co...</td>\n",
       "      <td>How can Internet speed be increased by hacking...</td>\n",
       "      <td>0</td>\n",
       "    </tr>\n",
       "    <tr>\n",
       "      <th>3</th>\n",
       "      <td>3</td>\n",
       "      <td>7</td>\n",
       "      <td>8</td>\n",
       "      <td>Why am I mentally very lonely? How can I solve...</td>\n",
       "      <td>Find the remainder when [math]23^{24}[/math] i...</td>\n",
       "      <td>0</td>\n",
       "    </tr>\n",
       "    <tr>\n",
       "      <th>4</th>\n",
       "      <td>4</td>\n",
       "      <td>9</td>\n",
       "      <td>10</td>\n",
       "      <td>Which one dissolve in water quikly sugar, salt...</td>\n",
       "      <td>Which fish would survive in salt water?</td>\n",
       "      <td>0</td>\n",
       "    </tr>\n",
       "  </tbody>\n",
       "</table>\n",
       "</div>"
      ],
      "text/plain": [
       "   id  qid1  qid2                                          question1  \\\n",
       "0   0     1     2  What is the step by step guide to invest in sh...   \n",
       "1   1     3     4  What is the story of Kohinoor (Koh-i-Noor) Dia...   \n",
       "2   2     5     6  How can I increase the speed of my internet co...   \n",
       "3   3     7     8  Why am I mentally very lonely? How can I solve...   \n",
       "4   4     9    10  Which one dissolve in water quikly sugar, salt...   \n",
       "\n",
       "                                           question2  is_duplicate  \n",
       "0  What is the step by step guide to invest in sh...             0  \n",
       "1  What would happen if the Indian government sto...             0  \n",
       "2  How can Internet speed be increased by hacking...             0  \n",
       "3  Find the remainder when [math]23^{24}[/math] i...             0  \n",
       "4            Which fish would survive in salt water?             0  "
      ]
     },
     "execution_count": 3,
     "metadata": {},
     "output_type": "execute_result"
    }
   ],
   "source": [
    "df.head()"
   ]
  },
  {
   "cell_type": "code",
   "execution_count": 4,
   "id": "00050501",
   "metadata": {},
   "outputs": [
    {
     "data": {
      "text/plain": [
       "(404351, 6)"
      ]
     },
     "execution_count": 4,
     "metadata": {},
     "output_type": "execute_result"
    }
   ],
   "source": [
    "df.shape"
   ]
  },
  {
   "cell_type": "code",
   "execution_count": 5,
   "id": "01f55e8f",
   "metadata": {},
   "outputs": [
    {
     "name": "stdout",
     "output_type": "stream",
     "text": [
      "<class 'pandas.core.frame.DataFrame'>\n",
      "RangeIndex: 404351 entries, 0 to 404350\n",
      "Data columns (total 6 columns):\n",
      " #   Column        Non-Null Count   Dtype \n",
      "---  ------        --------------   ----- \n",
      " 0   id            404351 non-null  int64 \n",
      " 1   qid1          404351 non-null  int64 \n",
      " 2   qid2          404351 non-null  int64 \n",
      " 3   question1     404350 non-null  object\n",
      " 4   question2     404349 non-null  object\n",
      " 5   is_duplicate  404351 non-null  int64 \n",
      "dtypes: int64(4), object(2)\n",
      "memory usage: 18.5+ MB\n"
     ]
    }
   ],
   "source": [
    "df.info()"
   ]
  },
  {
   "cell_type": "code",
   "execution_count": 6,
   "id": "6c28758e",
   "metadata": {},
   "outputs": [
    {
     "data": {
      "text/html": [
       "<div>\n",
       "<style scoped>\n",
       "    .dataframe tbody tr th:only-of-type {\n",
       "        vertical-align: middle;\n",
       "    }\n",
       "\n",
       "    .dataframe tbody tr th {\n",
       "        vertical-align: top;\n",
       "    }\n",
       "\n",
       "    .dataframe thead th {\n",
       "        text-align: right;\n",
       "    }\n",
       "</style>\n",
       "<table border=\"1\" class=\"dataframe\">\n",
       "  <thead>\n",
       "    <tr style=\"text-align: right;\">\n",
       "      <th></th>\n",
       "      <th>id</th>\n",
       "      <th>qid1</th>\n",
       "      <th>qid2</th>\n",
       "      <th>question1</th>\n",
       "      <th>question2</th>\n",
       "      <th>is_duplicate</th>\n",
       "    </tr>\n",
       "  </thead>\n",
       "  <tbody>\n",
       "    <tr>\n",
       "      <th>114136</th>\n",
       "      <td>114136</td>\n",
       "      <td>226276</td>\n",
       "      <td>226277</td>\n",
       "      <td>What is the technique to predict a football ma...</td>\n",
       "      <td>What things I need to learn if I want to write...</td>\n",
       "      <td>0</td>\n",
       "    </tr>\n",
       "    <tr>\n",
       "      <th>124741</th>\n",
       "      <td>124741</td>\n",
       "      <td>247161</td>\n",
       "      <td>247162</td>\n",
       "      <td>If you have a B.Sc. in Electrical Engineering ...</td>\n",
       "      <td>After completing electrical engineering, can w...</td>\n",
       "      <td>0</td>\n",
       "    </tr>\n",
       "    <tr>\n",
       "      <th>226838</th>\n",
       "      <td>226838</td>\n",
       "      <td>447062</td>\n",
       "      <td>447063</td>\n",
       "      <td>What is cloaking?</td>\n",
       "      <td>What do you mean by Cloaking?</td>\n",
       "      <td>1</td>\n",
       "    </tr>\n",
       "    <tr>\n",
       "      <th>236338</th>\n",
       "      <td>236338</td>\n",
       "      <td>465584</td>\n",
       "      <td>465585</td>\n",
       "      <td>Can I upgrade my lenovo phab to marshmellw?</td>\n",
       "      <td>Which is a good solar panel installation provi...</td>\n",
       "      <td>0</td>\n",
       "    </tr>\n",
       "    <tr>\n",
       "      <th>54353</th>\n",
       "      <td>54353</td>\n",
       "      <td>108157</td>\n",
       "      <td>108158</td>\n",
       "      <td>What is the corporate culture like at E.W. Scr...</td>\n",
       "      <td>What is the corporate culture like at PG&amp;E? Ho...</td>\n",
       "      <td>0</td>\n",
       "    </tr>\n",
       "    <tr>\n",
       "      <th>39494</th>\n",
       "      <td>39494</td>\n",
       "      <td>78673</td>\n",
       "      <td>78674</td>\n",
       "      <td>Do irregular menstrual periods affect female f...</td>\n",
       "      <td>How much does irregular periods affect pregnancy?</td>\n",
       "      <td>1</td>\n",
       "    </tr>\n",
       "    <tr>\n",
       "      <th>368150</th>\n",
       "      <td>368150</td>\n",
       "      <td>720520</td>\n",
       "      <td>720521</td>\n",
       "      <td>Can homeopathy medicines be non vegetarian?</td>\n",
       "      <td>What skills are useful to be good in game like...</td>\n",
       "      <td>0</td>\n",
       "    </tr>\n",
       "    <tr>\n",
       "      <th>249640</th>\n",
       "      <td>249640</td>\n",
       "      <td>491518</td>\n",
       "      <td>491519</td>\n",
       "      <td>What is the future of the Batman: Arkham series?</td>\n",
       "      <td>How do I save my progress in Batman Arkham Cit...</td>\n",
       "      <td>0</td>\n",
       "    </tr>\n",
       "    <tr>\n",
       "      <th>98286</th>\n",
       "      <td>98286</td>\n",
       "      <td>195062</td>\n",
       "      <td>195063</td>\n",
       "      <td>What countries would be the safest to be in in...</td>\n",
       "      <td>In the event of world war 3, which country wou...</td>\n",
       "      <td>1</td>\n",
       "    </tr>\n",
       "    <tr>\n",
       "      <th>297429</th>\n",
       "      <td>297429</td>\n",
       "      <td>584212</td>\n",
       "      <td>584213</td>\n",
       "      <td>What is the best answer I can give my girl whe...</td>\n",
       "      <td>What is the best answer I can give my girl whe...</td>\n",
       "      <td>0</td>\n",
       "    </tr>\n",
       "  </tbody>\n",
       "</table>\n",
       "</div>"
      ],
      "text/plain": [
       "            id    qid1    qid2  \\\n",
       "114136  114136  226276  226277   \n",
       "124741  124741  247161  247162   \n",
       "226838  226838  447062  447063   \n",
       "236338  236338  465584  465585   \n",
       "54353    54353  108157  108158   \n",
       "39494    39494   78673   78674   \n",
       "368150  368150  720520  720521   \n",
       "249640  249640  491518  491519   \n",
       "98286    98286  195062  195063   \n",
       "297429  297429  584212  584213   \n",
       "\n",
       "                                                question1  \\\n",
       "114136  What is the technique to predict a football ma...   \n",
       "124741  If you have a B.Sc. in Electrical Engineering ...   \n",
       "226838                                  What is cloaking?   \n",
       "236338        Can I upgrade my lenovo phab to marshmellw?   \n",
       "54353   What is the corporate culture like at E.W. Scr...   \n",
       "39494   Do irregular menstrual periods affect female f...   \n",
       "368150        Can homeopathy medicines be non vegetarian?   \n",
       "249640   What is the future of the Batman: Arkham series?   \n",
       "98286   What countries would be the safest to be in in...   \n",
       "297429  What is the best answer I can give my girl whe...   \n",
       "\n",
       "                                                question2  is_duplicate  \n",
       "114136  What things I need to learn if I want to write...             0  \n",
       "124741  After completing electrical engineering, can w...             0  \n",
       "226838                      What do you mean by Cloaking?             1  \n",
       "236338  Which is a good solar panel installation provi...             0  \n",
       "54353   What is the corporate culture like at PG&E? Ho...             0  \n",
       "39494   How much does irregular periods affect pregnancy?             1  \n",
       "368150  What skills are useful to be good in game like...             0  \n",
       "249640  How do I save my progress in Batman Arkham Cit...             0  \n",
       "98286   In the event of world war 3, which country wou...             1  \n",
       "297429  What is the best answer I can give my girl whe...             0  "
      ]
     },
     "execution_count": 6,
     "metadata": {},
     "output_type": "execute_result"
    }
   ],
   "source": [
    "df.sample(10)"
   ]
  },
  {
   "cell_type": "code",
   "execution_count": 7,
   "id": "1b9c1f30",
   "metadata": {},
   "outputs": [
    {
     "data": {
      "text/plain": [
       "id              0\n",
       "qid1            0\n",
       "qid2            0\n",
       "question1       1\n",
       "question2       2\n",
       "is_duplicate    0\n",
       "dtype: int64"
      ]
     },
     "execution_count": 7,
     "metadata": {},
     "output_type": "execute_result"
    }
   ],
   "source": [
    "df.isnull().sum()"
   ]
  },
  {
   "cell_type": "code",
   "execution_count": 8,
   "id": "cbed53d9",
   "metadata": {},
   "outputs": [
    {
     "data": {
      "text/plain": [
       "0"
      ]
     },
     "execution_count": 8,
     "metadata": {},
     "output_type": "execute_result"
    }
   ],
   "source": [
    "df.duplicated().sum()"
   ]
  },
  {
   "cell_type": "code",
   "execution_count": 9,
   "id": "b154134c",
   "metadata": {},
   "outputs": [
    {
     "name": "stdout",
     "output_type": "stream",
     "text": [
      "0    255045\n",
      "1    149306\n",
      "Name: is_duplicate, dtype: int64\n",
      "0    63.07515\n",
      "1    36.92485\n",
      "Name: is_duplicate, dtype: float64\n"
     ]
    },
    {
     "data": {
      "text/plain": [
       "<Axes: >"
      ]
     },
     "execution_count": 9,
     "metadata": {},
     "output_type": "execute_result"
    },
    {
     "data": {
      "image/png": "[encoded data removed]",
      "text/plain": [
       "<Figure size 640x480 with 1 Axes>"
      ]
     },
     "metadata": {},
     "output_type": "display_data"
    }
   ],
   "source": [
    "print(df['is_duplicate'].value_counts())\n",
    "print(df['is_duplicate'].value_counts()/df['is_duplicate'].count()*100)\n",
    "df['is_duplicate'].value_counts().plot(kind='bar')\n"
   ]
  },
  {
   "cell_type": "code",
   "execution_count": 10,
   "id": "41a5c48b",
   "metadata": {},
   "outputs": [
    {
     "name": "stdout",
     "output_type": "stream",
     "text": [
      "Number of unique questions 789801\n",
      "Number of questions getting repeated 13698\n"
     ]
    }
   ],
   "source": [
    "qid = pd.Series(df['qid1'].tolist() + df['qid2'].tolist())\n",
    "print('Number of unique questions',np.unique(qid).shape[0])\n",
    "x = qid.value_counts()>1\n",
    "print('Number of questions getting repeated',x[x].shape[0])"
   ]
  },
  {
   "cell_type": "code",
   "execution_count": 11,
   "id": "d2f60ec7",
   "metadata": {},
   "outputs": [
    {
     "data": {
      "image/png": "[encoded data removed]",
      "text/plain": [
       "<Figure size 640x480 with 1 Axes>"
      ]
     },
     "metadata": {},
     "output_type": "display_data"
    }
   ],
   "source": [
    "plt.hist(qid.value_counts().values,bins=160)\n",
    "plt.yscale('log')\n",
    "plt.show()"
   ]
  },
  {
   "cell_type": "code",
   "execution_count": null,
   "id": "0173d936",
   "metadata": {},
   "outputs": [],
   "source": []
  }
 ],
 "metadata": {
  "kernelspec": {
   "display_name": "Python 3 (ipykernel)",
   "language": "python",
   "name": "python3"
  },
  "language_info": {
   "codemirror_mode": {
    "name": "ipython",
    "version": 3
   },
   "file_extension": ".py",
   "mimetype": "text/x-python",
   "name": "python",
   "nbconvert_exporter": "python",
   "pygments_lexer": "ipython3",
   "version": "3.10.13"
  }
 },
 "nbformat": 4,
 "nbformat_minor": 5
}
