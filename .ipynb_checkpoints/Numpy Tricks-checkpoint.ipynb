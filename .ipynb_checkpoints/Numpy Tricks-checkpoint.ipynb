{
 "cells": [
  {
   "cell_type": "markdown",
   "id": "d0ab6dfe",
   "metadata": {},
   "source": [
    "# np.sort"
   ]
  },
  {
   "cell_type": "raw",
   "id": "8bc86529",
   "metadata": {},
   "source": [
    "Return a sorted copy of an array."
   ]
  },
  {
   "cell_type": "code",
   "execution_count": 1,
   "id": "cfdcd0a7",
   "metadata": {},
   "outputs": [
    {
     "data": {
      "text/plain": [
       "array([ 5, 76, 11, 10, 87, 94, 51, 97, 59, 41, 28, 46, 29, 36, 74])"
      ]
     },
     "execution_count": 1,
     "metadata": {},
     "output_type": "execute_result"
    }
   ],
   "source": [
    "# code\n",
    "import numpy as np\n",
    "a = np.random.randint(1,100,15)\n",
    "a"
   ]
  },
  {
   "cell_type": "code",
   "execution_count": 2,
   "id": "8f83f3bb",
   "metadata": {},
   "outputs": [
    {
     "data": {
      "text/plain": [
       "array([[83, 90, 74, 49],\n",
       "       [81, 89, 64, 29],\n",
       "       [55, 96, 40, 51],\n",
       "       [14, 37, 10, 22],\n",
       "       [94, 88, 29, 99],\n",
       "       [ 8, 61, 10, 89]])"
      ]
     },
     "execution_count": 2,
     "metadata": {},
     "output_type": "execute_result"
    }
   ],
   "source": [
    "b = np.random.randint(1,100,24).reshape(6,4)\n",
    "b"
   ]
  },
  {
   "cell_type": "code",
   "execution_count": 3,
   "id": "8f22d85f",
   "metadata": {},
   "outputs": [
    {
     "data": {
      "text/plain": [
       "array([97, 94, 87, 76, 74, 59, 51, 46, 41, 36, 29, 28, 11, 10,  5])"
      ]
     },
     "execution_count": 3,
     "metadata": {},
     "output_type": "execute_result"
    }
   ],
   "source": [
    "np.sort(a)[::-1]"
   ]
  },
  {
   "cell_type": "code",
   "execution_count": 4,
   "id": "a60feb76",
   "metadata": {},
   "outputs": [
    {
     "data": {
      "text/plain": [
       "array([[ 8, 37, 10, 22],\n",
       "       [14, 61, 10, 29],\n",
       "       [55, 88, 29, 49],\n",
       "       [81, 89, 40, 51],\n",
       "       [83, 90, 64, 89],\n",
       "       [94, 96, 74, 99]])"
      ]
     },
     "execution_count": 4,
     "metadata": {},
     "output_type": "execute_result"
    }
   ],
   "source": [
    "np.sort(b,axis=0)"
   ]
  },
  {
   "cell_type": "markdown",
   "id": "f7edf19c",
   "metadata": {},
   "source": [
    "# np.append"
   ]
  },
  {
   "cell_type": "raw",
   "id": "54bd32b0",
   "metadata": {},
   "source": [
    "The numpy.append() appends values along the mentioned axis at the end of the array"
   ]
  },
  {
   "cell_type": "code",
   "execution_count": 5,
   "id": "28a614ee",
   "metadata": {},
   "outputs": [
    {
     "data": {
      "text/plain": [
       "array([  5,  76,  11,  10,  87,  94,  51,  97,  59,  41,  28,  46,  29,\n",
       "        36,  74, 200])"
      ]
     },
     "execution_count": 5,
     "metadata": {},
     "output_type": "execute_result"
    }
   ],
   "source": [
    "# code\n",
    "np.append(a,200)"
   ]
  },
  {
   "cell_type": "code",
   "execution_count": 6,
   "id": "a3d974a9",
   "metadata": {},
   "outputs": [
    {
     "data": {
      "text/plain": [
       "array([[83, 90, 74, 49],\n",
       "       [81, 89, 64, 29],\n",
       "       [55, 96, 40, 51],\n",
       "       [14, 37, 10, 22],\n",
       "       [94, 88, 29, 99],\n",
       "       [ 8, 61, 10, 89]])"
      ]
     },
     "execution_count": 6,
     "metadata": {},
     "output_type": "execute_result"
    }
   ],
   "source": [
    "b"
   ]
  },
  {
   "cell_type": "code",
   "execution_count": 7,
   "id": "85efbe24",
   "metadata": {},
   "outputs": [
    {
     "data": {
      "text/plain": [
       "array([[83.        , 90.        , 74.        , 49.        ,  0.73859612],\n",
       "       [81.        , 89.        , 64.        , 29.        ,  0.81701723],\n",
       "       [55.        , 96.        , 40.        , 51.        ,  0.16608918],\n",
       "       [14.        , 37.        , 10.        , 22.        ,  0.39821352],\n",
       "       [94.        , 88.        , 29.        , 99.        ,  0.71959973],\n",
       "       [ 8.        , 61.        , 10.        , 89.        ,  0.63184891]])"
      ]
     },
     "execution_count": 7,
     "metadata": {},
     "output_type": "execute_result"
    }
   ],
   "source": [
    "np.append(b,np.random.random((b.shape[0],1)),axis=1)"
   ]
  },
  {
   "cell_type": "markdown",
   "id": "f2b00f97",
   "metadata": {},
   "source": [
    "# np.concatenate"
   ]
  },
  {
   "cell_type": "raw",
   "id": "a8f3ac49",
   "metadata": {},
   "source": [
    "numpy.concatenate() function concatenate a sequence of arrays along an existing axis."
   ]
  },
  {
   "cell_type": "code",
   "execution_count": 8,
   "id": "e4b2abe8",
   "metadata": {},
   "outputs": [
    {
     "name": "stdout",
     "output_type": "stream",
     "text": [
      "[[0 1 2]\n",
      " [3 4 5]]\n",
      "[[ 6  7  8]\n",
      " [ 9 10 11]]\n"
     ]
    }
   ],
   "source": [
    "# code\n",
    "c = np.arange(6).reshape(2,3)\n",
    "d = np.arange(6,12).reshape(2,3)\n",
    "\n",
    "print(c)\n",
    "print(d)"
   ]
  },
  {
   "cell_type": "code",
   "execution_count": 9,
   "id": "9e1dd474",
   "metadata": {},
   "outputs": [
    {
     "data": {
      "text/plain": [
       "array([[ 0,  1,  2],\n",
       "       [ 3,  4,  5],\n",
       "       [ 6,  7,  8],\n",
       "       [ 9, 10, 11]])"
      ]
     },
     "execution_count": 9,
     "metadata": {},
     "output_type": "execute_result"
    }
   ],
   "source": [
    "np.concatenate((c,d),axis=0)"
   ]
  },
  {
   "cell_type": "code",
   "execution_count": 10,
   "id": "d01cb0cc",
   "metadata": {},
   "outputs": [
    {
     "data": {
      "text/plain": [
       "array([[ 0,  1,  2,  6,  7,  8],\n",
       "       [ 3,  4,  5,  9, 10, 11]])"
      ]
     },
     "execution_count": 10,
     "metadata": {},
     "output_type": "execute_result"
    }
   ],
   "source": [
    "np.concatenate((c,d),axis=1)"
   ]
  },
  {
   "cell_type": "markdown",
   "id": "aeea4bfa",
   "metadata": {},
   "source": [
    "# np.unique"
   ]
  },
  {
   "cell_type": "raw",
   "id": "0a088343",
   "metadata": {},
   "source": [
    "With the help of np.unique() method, we can get the unique values from an array given as parameter in np.unique() method."
   ]
  },
  {
   "cell_type": "code",
   "execution_count": 11,
   "id": "3857848d",
   "metadata": {},
   "outputs": [],
   "source": [
    "# code\n",
    "e = np.array([1,1,2,2,3,3,4,4,5,5,6,6])"
   ]
  },
  {
   "cell_type": "code",
   "execution_count": 12,
   "id": "43d77238",
   "metadata": {},
   "outputs": [
    {
     "data": {
      "text/plain": [
       "array([1, 2, 3, 4, 5, 6])"
      ]
     },
     "execution_count": 12,
     "metadata": {},
     "output_type": "execute_result"
    }
   ],
   "source": [
    "np.unique(e)"
   ]
  },
  {
   "cell_type": "markdown",
   "id": "4c9caed7",
   "metadata": {},
   "source": [
    "# np.expand_dims"
   ]
  },
  {
   "cell_type": "raw",
   "id": "3756e4fb",
   "metadata": {},
   "source": [
    "With the help of Numpy.expand_dims() method, we can get the expanded dimensions of an array"
   ]
  },
  {
   "cell_type": "code",
   "execution_count": 13,
   "id": "95bd6594",
   "metadata": {},
   "outputs": [
    {
     "data": {
      "text/plain": [
       "(15,)"
      ]
     },
     "execution_count": 13,
     "metadata": {},
     "output_type": "execute_result"
    }
   ],
   "source": [
    "# code\n",
    "a.shape"
   ]
  },
  {
   "cell_type": "code",
   "execution_count": 14,
   "id": "9bac9714",
   "metadata": {},
   "outputs": [
    {
     "data": {
      "text/plain": [
       "(1, 15)"
      ]
     },
     "execution_count": 14,
     "metadata": {},
     "output_type": "execute_result"
    }
   ],
   "source": [
    "np.expand_dims(a,axis=0).shape"
   ]
  },
  {
   "cell_type": "code",
   "execution_count": 15,
   "id": "bab346fb",
   "metadata": {},
   "outputs": [
    {
     "data": {
      "text/plain": [
       "array([[ 5],\n",
       "       [76],\n",
       "       [11],\n",
       "       [10],\n",
       "       [87],\n",
       "       [94],\n",
       "       [51],\n",
       "       [97],\n",
       "       [59],\n",
       "       [41],\n",
       "       [28],\n",
       "       [46],\n",
       "       [29],\n",
       "       [36],\n",
       "       [74]])"
      ]
     },
     "execution_count": 15,
     "metadata": {},
     "output_type": "execute_result"
    }
   ],
   "source": [
    "np.expand_dims(a,axis=1)"
   ]
  },
  {
   "cell_type": "markdown",
   "id": "ee2333a9",
   "metadata": {},
   "source": [
    "# np.where"
   ]
  },
  {
   "cell_type": "raw",
   "id": "3ca80602",
   "metadata": {},
   "source": [
    "The numpy.where() function returns the indices of elements in an input array where the given condition is satisfied."
   ]
  },
  {
   "cell_type": "code",
   "execution_count": 16,
   "id": "2f59b319",
   "metadata": {},
   "outputs": [
    {
     "data": {
      "text/plain": [
       "array([ 5, 76, 11, 10, 87, 94, 51, 97, 59, 41, 28, 46, 29, 36, 74])"
      ]
     },
     "execution_count": 16,
     "metadata": {},
     "output_type": "execute_result"
    }
   ],
   "source": [
    "a"
   ]
  },
  {
   "cell_type": "code",
   "execution_count": 17,
   "id": "f5371261",
   "metadata": {},
   "outputs": [
    {
     "data": {
      "text/plain": [
       "(array([ 1,  4,  5,  6,  7,  8, 14], dtype=int64),)"
      ]
     },
     "execution_count": 17,
     "metadata": {},
     "output_type": "execute_result"
    }
   ],
   "source": [
    "# find all indices with value greater than 50\n",
    "np.where(a>50)"
   ]
  },
  {
   "cell_type": "code",
   "execution_count": 18,
   "id": "72cd31d4",
   "metadata": {},
   "outputs": [
    {
     "data": {
      "text/plain": [
       "array([ 5,  0, 11, 10,  0,  0,  0,  0,  0, 41, 28, 46, 29, 36,  0])"
      ]
     },
     "execution_count": 18,
     "metadata": {},
     "output_type": "execute_result"
    }
   ],
   "source": [
    "# replace all values > 50 with 0\n",
    "np.where(a>50,0,a)"
   ]
  },
  {
   "cell_type": "code",
   "execution_count": 19,
   "id": "980c1ef4",
   "metadata": {},
   "outputs": [
    {
     "data": {
      "text/plain": [
       "array([ 5,  0, 11,  0, 87,  0, 51, 97, 59, 41,  0,  0, 29,  0,  0])"
      ]
     },
     "execution_count": 19,
     "metadata": {},
     "output_type": "execute_result"
    }
   ],
   "source": [
    "np.where(a%2 == 0,0,a)"
   ]
  },
  {
   "cell_type": "markdown",
   "id": "a1ee6a17",
   "metadata": {},
   "source": [
    "# np.argmax"
   ]
  },
  {
   "cell_type": "raw",
   "id": "b43a52ea",
   "metadata": {},
   "source": [
    "The numpy.argmax() function returns indices of the max element of the array in a particular axis."
   ]
  },
  {
   "cell_type": "code",
   "execution_count": 20,
   "id": "bd77de24",
   "metadata": {},
   "outputs": [
    {
     "data": {
      "text/plain": [
       "array([ 5, 76, 11, 10, 87, 94, 51, 97, 59, 41, 28, 46, 29, 36, 74])"
      ]
     },
     "execution_count": 20,
     "metadata": {},
     "output_type": "execute_result"
    }
   ],
   "source": [
    "a"
   ]
  },
  {
   "cell_type": "code",
   "execution_count": 21,
   "id": "e5e88bef",
   "metadata": {},
   "outputs": [
    {
     "data": {
      "text/plain": [
       "array([[83, 90, 74, 49],\n",
       "       [81, 89, 64, 29],\n",
       "       [55, 96, 40, 51],\n",
       "       [14, 37, 10, 22],\n",
       "       [94, 88, 29, 99],\n",
       "       [ 8, 61, 10, 89]])"
      ]
     },
     "execution_count": 21,
     "metadata": {},
     "output_type": "execute_result"
    }
   ],
   "source": [
    "b"
   ]
  },
  {
   "cell_type": "code",
   "execution_count": 22,
   "id": "6bc19639",
   "metadata": {},
   "outputs": [
    {
     "data": {
      "text/plain": [
       "7"
      ]
     },
     "execution_count": 22,
     "metadata": {},
     "output_type": "execute_result"
    }
   ],
   "source": [
    "np.argmax(a)"
   ]
  },
  {
   "cell_type": "code",
   "execution_count": 23,
   "id": "a8ea23af",
   "metadata": {},
   "outputs": [
    {
     "data": {
      "text/plain": [
       "array([4, 2, 0, 4], dtype=int64)"
      ]
     },
     "execution_count": 23,
     "metadata": {},
     "output_type": "execute_result"
    }
   ],
   "source": [
    "np.argmax(b,axis=0)"
   ]
  },
  {
   "cell_type": "code",
   "execution_count": 24,
   "id": "0e088e62",
   "metadata": {},
   "outputs": [
    {
     "data": {
      "text/plain": [
       "array([1, 1, 1, 1, 3, 3], dtype=int64)"
      ]
     },
     "execution_count": 24,
     "metadata": {},
     "output_type": "execute_result"
    }
   ],
   "source": [
    "np.argmax(b,axis=1)"
   ]
  },
  {
   "cell_type": "code",
   "execution_count": 25,
   "id": "5e14d86e",
   "metadata": {},
   "outputs": [
    {
     "data": {
      "text/plain": [
       "0"
      ]
     },
     "execution_count": 25,
     "metadata": {},
     "output_type": "execute_result"
    }
   ],
   "source": [
    "# np.argmin\n",
    "np.argmin(a)\n"
   ]
  },
  {
   "cell_type": "markdown",
   "id": "42479640",
   "metadata": {},
   "source": [
    "# np.cumsum"
   ]
  },
  {
   "cell_type": "raw",
   "id": "af499972",
   "metadata": {},
   "source": [
    "numpy.cumsum() function is used when we want to compute the cumulative sum of array elements over a given axis."
   ]
  },
  {
   "cell_type": "code",
   "execution_count": 27,
   "id": "5fab4bfd",
   "metadata": {},
   "outputs": [
    {
     "data": {
      "text/plain": [
       "array([ 5, 76, 11, 10, 87, 94, 51, 97, 59, 41, 28, 46, 29, 36, 74])"
      ]
     },
     "execution_count": 27,
     "metadata": {},
     "output_type": "execute_result"
    }
   ],
   "source": [
    "a\n"
   ]
  },
  {
   "cell_type": "code",
   "execution_count": 28,
   "id": "7714ca7e",
   "metadata": {},
   "outputs": [
    {
     "data": {
      "text/plain": [
       "array([[83, 90, 74, 49],\n",
       "       [81, 89, 64, 29],\n",
       "       [55, 96, 40, 51],\n",
       "       [14, 37, 10, 22],\n",
       "       [94, 88, 29, 99],\n",
       "       [ 8, 61, 10, 89]])"
      ]
     },
     "execution_count": 28,
     "metadata": {},
     "output_type": "execute_result"
    }
   ],
   "source": [
    "b"
   ]
  },
  {
   "cell_type": "code",
   "execution_count": 29,
   "id": "7117e857",
   "metadata": {},
   "outputs": [
    {
     "data": {
      "text/plain": [
       "array([  5,  81,  92, 102, 189, 283, 334, 431, 490, 531, 559, 605, 634,\n",
       "       670, 744])"
      ]
     },
     "execution_count": 29,
     "metadata": {},
     "output_type": "execute_result"
    }
   ],
   "source": [
    "np.cumsum(a)"
   ]
  },
  {
   "cell_type": "code",
   "execution_count": 30,
   "id": "e2f2e8e0",
   "metadata": {},
   "outputs": [
    {
     "data": {
      "text/plain": [
       "array([[83, 90, 74, 49],\n",
       "       [81, 89, 64, 29],\n",
       "       [55, 96, 40, 51],\n",
       "       [14, 37, 10, 22],\n",
       "       [94, 88, 29, 99],\n",
       "       [ 8, 61, 10, 89]])"
      ]
     },
     "execution_count": 30,
     "metadata": {},
     "output_type": "execute_result"
    }
   ],
   "source": [
    "b"
   ]
  },
  {
   "cell_type": "code",
   "execution_count": 31,
   "id": "be3e1139",
   "metadata": {},
   "outputs": [
    {
     "data": {
      "text/plain": [
       "array([[ 83, 173, 247, 296],\n",
       "       [ 81, 170, 234, 263],\n",
       "       [ 55, 151, 191, 242],\n",
       "       [ 14,  51,  61,  83],\n",
       "       [ 94, 182, 211, 310],\n",
       "       [  8,  69,  79, 168]])"
      ]
     },
     "execution_count": 31,
     "metadata": {},
     "output_type": "execute_result"
    }
   ],
   "source": [
    "np.cumsum(b,axis=1)"
   ]
  },
  {
   "cell_type": "code",
   "execution_count": 32,
   "id": "46497cad",
   "metadata": {},
   "outputs": [
    {
     "data": {
      "text/plain": [
       "array([[ 83,  90,  74,  49],\n",
       "       [164, 179, 138,  78],\n",
       "       [219, 275, 178, 129],\n",
       "       [233, 312, 188, 151],\n",
       "       [327, 400, 217, 250],\n",
       "       [335, 461, 227, 339]])"
      ]
     },
     "execution_count": 32,
     "metadata": {},
     "output_type": "execute_result"
    }
   ],
   "source": [
    "np.cumsum(b,axis=0)"
   ]
  },
  {
   "cell_type": "code",
   "execution_count": 33,
   "id": "acd9d4c4",
   "metadata": {},
   "outputs": [
    {
     "data": {
      "text/plain": [
       "array([          5,         380,        4180,       41800,     3636600,\n",
       "         341840400,   253991216, -1132655824,  1892783120,   294696592,\n",
       "        -338430016,  1612088448,  -494075264,  -606840320, -1956510720])"
      ]
     },
     "execution_count": 33,
     "metadata": {},
     "output_type": "execute_result"
    }
   ],
   "source": [
    "# np.cumprod\n",
    "np.cumprod(a)"
   ]
  },
  {
   "cell_type": "code",
   "execution_count": 34,
   "id": "d6a87a30",
   "metadata": {},
   "outputs": [
    {
     "data": {
      "text/plain": [
       "array([ 5, 76, 11, 10, 87, 94, 51, 97, 59, 41, 28, 46, 29, 36, 74])"
      ]
     },
     "execution_count": 34,
     "metadata": {},
     "output_type": "execute_result"
    }
   ],
   "source": [
    "a"
   ]
  },
  {
   "cell_type": "markdown",
   "id": "c3357a75",
   "metadata": {},
   "source": [
    "# np.percentile"
   ]
  },
  {
   "cell_type": "code",
   "execution_count": 35,
   "id": "7c802956",
   "metadata": {},
   "outputs": [
    {
     "data": {
      "text/plain": [
       "array([ 5, 76, 11, 10, 87, 94, 51, 97, 59, 41, 28, 46, 29, 36, 74])"
      ]
     },
     "execution_count": 35,
     "metadata": {},
     "output_type": "execute_result"
    }
   ],
   "source": [
    "a"
   ]
  },
  {
   "cell_type": "code",
   "execution_count": 36,
   "id": "0475056f",
   "metadata": {},
   "outputs": [
    {
     "data": {
      "text/plain": [
       "46.0"
      ]
     },
     "execution_count": 36,
     "metadata": {},
     "output_type": "execute_result"
    }
   ],
   "source": [
    "np.percentile(a,50)"
   ]
  },
  {
   "cell_type": "code",
   "execution_count": 37,
   "id": "84f50b99",
   "metadata": {},
   "outputs": [
    {
     "data": {
      "text/plain": [
       "46.0"
      ]
     },
     "execution_count": 37,
     "metadata": {},
     "output_type": "execute_result"
    }
   ],
   "source": [
    "np.median(a)"
   ]
  },
  {
   "cell_type": "markdown",
   "id": "488fd982",
   "metadata": {},
   "source": [
    "# np.histogram "
   ]
  },
  {
   "cell_type": "raw",
   "id": "3ee0f172",
   "metadata": {},
   "source": [
    "Numpy has a built-in numpy.histogram() function which represents the frequency of data distribution in the graphical form."
   ]
  },
  {
   "cell_type": "code",
   "execution_count": 39,
   "id": "9041d4e6",
   "metadata": {},
   "outputs": [
    {
     "data": {
      "text/plain": [
       "array([ 5, 76, 11, 10, 87, 94, 51, 97, 59, 41, 28, 46, 29, 36, 74])"
      ]
     },
     "execution_count": 39,
     "metadata": {},
     "output_type": "execute_result"
    }
   ],
   "source": [
    "a"
   ]
  },
  {
   "cell_type": "code",
   "execution_count": 40,
   "id": "61e6198a",
   "metadata": {},
   "outputs": [
    {
     "data": {
      "text/plain": [
       "(array([8, 7], dtype=int64), array([  0,  50, 100]))"
      ]
     },
     "execution_count": 40,
     "metadata": {},
     "output_type": "execute_result"
    }
   ],
   "source": [
    "np.histogram(a,bins=[0,50,100])"
   ]
  },
  {
   "cell_type": "markdown",
   "id": "aa3b830e",
   "metadata": {},
   "source": [
    "# np.corrcoef"
   ]
  },
  {
   "cell_type": "raw",
   "id": "448e2c19",
   "metadata": {},
   "source": [
    "Return Pearson product-moment correlation coefficients."
   ]
  },
  {
   "cell_type": "code",
   "execution_count": 42,
   "id": "79c38a49",
   "metadata": {},
   "outputs": [
    {
     "data": {
      "text/plain": [
       "array([[1.        , 0.25344572],\n",
       "       [0.25344572, 1.        ]])"
      ]
     },
     "execution_count": 42,
     "metadata": {},
     "output_type": "execute_result"
    }
   ],
   "source": [
    "salary = np.array([20000,40000,25000,35000,60000])\n",
    "experience = np.array([1,3,2,4,2])\n",
    "\n",
    "np.corrcoef(salary,experience)"
   ]
  },
  {
   "cell_type": "markdown",
   "id": "1032365a",
   "metadata": {},
   "source": [
    "# np.isin"
   ]
  },
  {
   "cell_type": "raw",
   "id": "ee1e48f1",
   "metadata": {},
   "source": [
    "With the help of numpy.isin() method, we can see that one array having values are checked in a different numpy array having different elements with different sizes."
   ]
  },
  {
   "cell_type": "code",
   "execution_count": 43,
   "id": "03628c98",
   "metadata": {},
   "outputs": [
    {
     "data": {
      "text/plain": [
       "array([ 5, 76, 11, 10, 87, 94, 51, 97, 59, 41, 28, 46, 29, 36, 74])"
      ]
     },
     "execution_count": 43,
     "metadata": {},
     "output_type": "execute_result"
    }
   ],
   "source": [
    "a"
   ]
  },
  {
   "cell_type": "code",
   "execution_count": 44,
   "id": "6c72ab76",
   "metadata": {},
   "outputs": [
    {
     "data": {
      "text/plain": [
       "array([[83, 90, 74, 49],\n",
       "       [81, 89, 64, 29],\n",
       "       [55, 96, 40, 51],\n",
       "       [14, 37, 10, 22],\n",
       "       [94, 88, 29, 99],\n",
       "       [ 8, 61, 10, 89]])"
      ]
     },
     "execution_count": 44,
     "metadata": {},
     "output_type": "execute_result"
    }
   ],
   "source": [
    "b"
   ]
  },
  {
   "cell_type": "code",
   "execution_count": 45,
   "id": "47e87501",
   "metadata": {},
   "outputs": [
    {
     "data": {
      "text/plain": [
       "array([10])"
      ]
     },
     "execution_count": 45,
     "metadata": {},
     "output_type": "execute_result"
    }
   ],
   "source": [
    "items = [10,20,30,40,50,60,70,80,90,100]\n",
    "\n",
    "a[np.isin(a,items)]"
   ]
  },
  {
   "cell_type": "markdown",
   "id": "7474314e",
   "metadata": {},
   "source": [
    "# np.flip"
   ]
  },
  {
   "cell_type": "raw",
   "id": "e256c2ef",
   "metadata": {},
   "source": [
    "The numpy.flip() function reverses the order of array elements along the specified axis, preserving the shape of the array."
   ]
  },
  {
   "cell_type": "code",
   "execution_count": 46,
   "id": "47345bd3",
   "metadata": {},
   "outputs": [
    {
     "data": {
      "text/plain": [
       "array([ 5, 76, 11, 10, 87, 94, 51, 97, 59, 41, 28, 46, 29, 36, 74])"
      ]
     },
     "execution_count": 46,
     "metadata": {},
     "output_type": "execute_result"
    }
   ],
   "source": [
    "a"
   ]
  },
  {
   "cell_type": "code",
   "execution_count": 47,
   "id": "0a58b366",
   "metadata": {},
   "outputs": [
    {
     "data": {
      "text/plain": [
       "array([74, 36, 29, 46, 28, 41, 59, 97, 51, 94, 87, 10, 11, 76,  5])"
      ]
     },
     "execution_count": 47,
     "metadata": {},
     "output_type": "execute_result"
    }
   ],
   "source": [
    "np.flip(a)"
   ]
  },
  {
   "cell_type": "code",
   "execution_count": 48,
   "id": "46763e6e",
   "metadata": {},
   "outputs": [
    {
     "data": {
      "text/plain": [
       "array([[83, 90, 74, 49],\n",
       "       [81, 89, 64, 29],\n",
       "       [55, 96, 40, 51],\n",
       "       [14, 37, 10, 22],\n",
       "       [94, 88, 29, 99],\n",
       "       [ 8, 61, 10, 89]])"
      ]
     },
     "execution_count": 48,
     "metadata": {},
     "output_type": "execute_result"
    }
   ],
   "source": [
    "b"
   ]
  },
  {
   "cell_type": "code",
   "execution_count": 49,
   "id": "8599f053",
   "metadata": {},
   "outputs": [
    {
     "data": {
      "text/plain": [
       "array([[49, 74, 90, 83],\n",
       "       [29, 64, 89, 81],\n",
       "       [51, 40, 96, 55],\n",
       "       [22, 10, 37, 14],\n",
       "       [99, 29, 88, 94],\n",
       "       [89, 10, 61,  8]])"
      ]
     },
     "execution_count": 49,
     "metadata": {},
     "output_type": "execute_result"
    }
   ],
   "source": [
    "np.flip(b,axis=1)"
   ]
  },
  {
   "cell_type": "code",
   "execution_count": 50,
   "id": "49afb82b",
   "metadata": {},
   "outputs": [
    {
     "data": {
      "text/plain": [
       "array([[ 8, 61, 10, 89],\n",
       "       [94, 88, 29, 99],\n",
       "       [14, 37, 10, 22],\n",
       "       [55, 96, 40, 51],\n",
       "       [81, 89, 64, 29],\n",
       "       [83, 90, 74, 49]])"
      ]
     },
     "execution_count": 50,
     "metadata": {},
     "output_type": "execute_result"
    }
   ],
   "source": [
    "np.flip(b,axis=0)"
   ]
  },
  {
   "cell_type": "markdown",
   "id": "42ac909f",
   "metadata": {},
   "source": [
    "# np.put"
   ]
  },
  {
   "cell_type": "raw",
   "id": "77f6f700",
   "metadata": {},
   "source": [
    "The numpy.put() function replaces specific elements of an array with given values of p_array. Array indexed works on flattened array."
   ]
  },
  {
   "cell_type": "code",
   "execution_count": 51,
   "id": "3213ba59",
   "metadata": {},
   "outputs": [
    {
     "data": {
      "text/plain": [
       "array([ 5, 76, 11, 10, 87, 94, 51, 97, 59, 41, 28, 46, 29, 36, 74])"
      ]
     },
     "execution_count": 51,
     "metadata": {},
     "output_type": "execute_result"
    }
   ],
   "source": [
    "a"
   ]
  },
  {
   "cell_type": "code",
   "execution_count": 52,
   "id": "294ae3c0",
   "metadata": {},
   "outputs": [],
   "source": [
    "np.put(a,[0,1],[110,530])"
   ]
  },
  {
   "cell_type": "code",
   "execution_count": 53,
   "id": "570082fc",
   "metadata": {},
   "outputs": [
    {
     "data": {
      "text/plain": [
       "array([110, 530,  11,  10,  87,  94,  51,  97,  59,  41,  28,  46,  29,\n",
       "        36,  74])"
      ]
     },
     "execution_count": 53,
     "metadata": {},
     "output_type": "execute_result"
    }
   ],
   "source": [
    "a"
   ]
  },
  {
   "cell_type": "markdown",
   "id": "e762377f",
   "metadata": {},
   "source": [
    "# np.delete"
   ]
  },
  {
   "cell_type": "code",
   "execution_count": 54,
   "id": "fb3be982",
   "metadata": {},
   "outputs": [
    {
     "data": {
      "text/plain": [
       "array([110, 530,  11,  10,  87,  94,  51,  97,  59,  41,  28,  46,  29,\n",
       "        36,  74])"
      ]
     },
     "execution_count": 54,
     "metadata": {},
     "output_type": "execute_result"
    }
   ],
   "source": [
    "a"
   ]
  },
  {
   "cell_type": "code",
   "execution_count": 55,
   "id": "41f2a260",
   "metadata": {},
   "outputs": [
    {
     "data": {
      "text/plain": [
       "array([530,  10,  94,  51,  97,  59,  41,  28,  46,  29,  36,  74])"
      ]
     },
     "execution_count": 55,
     "metadata": {},
     "output_type": "execute_result"
    }
   ],
   "source": [
    "np.delete(a,[0,2,4])"
   ]
  },
  {
   "cell_type": "markdown",
   "id": "e7192b87",
   "metadata": {},
   "source": [
    "# Set functions"
   ]
  },
  {
   "cell_type": "raw",
   "id": "b0435eae",
   "metadata": {},
   "source": [
    "np.union1d\n",
    "np.intersect1d\n",
    "np.setdiff1d\n",
    "np.setxor1d\n",
    "np.in1d"
   ]
  },
  {
   "cell_type": "code",
   "execution_count": 56,
   "id": "947a2212",
   "metadata": {},
   "outputs": [
    {
     "data": {
      "text/plain": [
       "array([1, 2, 3, 4, 5, 6, 7])"
      ]
     },
     "execution_count": 56,
     "metadata": {},
     "output_type": "execute_result"
    }
   ],
   "source": [
    "m = np.array([1,2,3,4,5])\n",
    "n = np.array([3,4,5,6,7])\n",
    "\n",
    "np.union1d(m,n)"
   ]
  },
  {
   "cell_type": "code",
   "execution_count": 57,
   "id": "93dc2ef4",
   "metadata": {},
   "outputs": [
    {
     "data": {
      "text/plain": [
       "array([3, 4, 5])"
      ]
     },
     "execution_count": 57,
     "metadata": {},
     "output_type": "execute_result"
    }
   ],
   "source": [
    "np.intersect1d(m,n)"
   ]
  },
  {
   "cell_type": "code",
   "execution_count": 58,
   "id": "c0d23aa9",
   "metadata": {},
   "outputs": [
    {
     "data": {
      "text/plain": [
       "array([6, 7])"
      ]
     },
     "execution_count": 58,
     "metadata": {},
     "output_type": "execute_result"
    }
   ],
   "source": [
    "np.setdiff1d(n,m)"
   ]
  },
  {
   "cell_type": "code",
   "execution_count": 59,
   "id": "34a89b8b",
   "metadata": {},
   "outputs": [
    {
     "data": {
      "text/plain": [
       "array([1, 2, 6, 7])"
      ]
     },
     "execution_count": 59,
     "metadata": {},
     "output_type": "execute_result"
    }
   ],
   "source": [
    "np.setxor1d(m,n)"
   ]
  },
  {
   "cell_type": "code",
   "execution_count": 60,
   "id": "470084bd",
   "metadata": {},
   "outputs": [
    {
     "data": {
      "text/plain": [
       "array([1])"
      ]
     },
     "execution_count": 60,
     "metadata": {},
     "output_type": "execute_result"
    }
   ],
   "source": [
    "m[np.in1d(m,1)]"
   ]
  },
  {
   "cell_type": "markdown",
   "id": "49fd09b6",
   "metadata": {},
   "source": [
    "# np.clip"
   ]
  },
  {
   "cell_type": "raw",
   "id": "33d3367c",
   "metadata": {},
   "source": [
    "numpy.clip() function is used to Clip (limit) the values in an array."
   ]
  },
  {
   "cell_type": "code",
   "execution_count": 61,
   "id": "81c5b6e8",
   "metadata": {},
   "outputs": [
    {
     "data": {
      "text/plain": [
       "array([110, 530,  11,  10,  87,  94,  51,  97,  59,  41,  28,  46,  29,\n",
       "        36,  74])"
      ]
     },
     "execution_count": 61,
     "metadata": {},
     "output_type": "execute_result"
    }
   ],
   "source": [
    "a"
   ]
  },
  {
   "cell_type": "code",
   "execution_count": 62,
   "id": "b38feb5d",
   "metadata": {},
   "outputs": [
    {
     "data": {
      "text/plain": [
       "array([75, 75, 25, 25, 75, 75, 51, 75, 59, 41, 28, 46, 29, 36, 74])"
      ]
     },
     "execution_count": 62,
     "metadata": {},
     "output_type": "execute_result"
    }
   ],
   "source": [
    "np.clip(a,a_min=25,a_max=75)"
   ]
  },
  {
   "cell_type": "code",
   "execution_count": null,
   "id": "4a4b9143",
   "metadata": {},
   "outputs": [],
   "source": []
  }
 ],
 "metadata": {
  "kernelspec": {
   "display_name": "Python 3 (ipykernel)",
   "language": "python",
   "name": "python3"
  },
  "language_info": {
   "codemirror_mode": {
    "name": "ipython",
    "version": 3
   },
   "file_extension": ".py",
   "mimetype": "text/x-python",
   "name": "python",
   "nbconvert_exporter": "python",
   "pygments_lexer": "ipython3",
   "version": "3.10.13"
  }
 },
 "nbformat": 4,
 "nbformat_minor": 5
}
