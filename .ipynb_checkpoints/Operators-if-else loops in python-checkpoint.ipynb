{
 "cells": [
  {
   "cell_type": "markdown",
   "id": "c15a7f12",
   "metadata": {},
   "source": [
    "# Operators in python"
   ]
  },
  {
   "cell_type": "markdown",
   "id": "0f5d39b9",
   "metadata": {},
   "source": [
    "Arithmetic Operators\n",
    "Relational Operators\n",
    "Logical Operators\n",
    "Bitwise Operators\n",
    "Assignment Operators\n",
    "Membership Operators"
   ]
  },
  {
   "cell_type": "code",
   "execution_count": 1,
   "id": "d331a243",
   "metadata": {},
   "outputs": [
    {
     "name": "stdout",
     "output_type": "stream",
     "text": [
      "11\n",
      "-1\n",
      "30\n",
      "0.8333333333333334\n",
      "2\n",
      "1\n",
      "25\n"
     ]
    }
   ],
   "source": [
    "#arithmetic operator\n",
    "print(5+6)\n",
    "print(5-6)\n",
    "print(5*6)\n",
    "print(5/6)\n",
    "print(5//2)\n",
    "print(5%2)\n",
    "print(5**2)"
   ]
  },
  {
   "cell_type": "code",
   "execution_count": 2,
   "id": "28833eb4",
   "metadata": {},
   "outputs": [
    {
     "name": "stdout",
     "output_type": "stream",
     "text": [
      "False\n",
      "True\n",
      "False\n",
      "True\n",
      "False\n",
      "False\n"
     ]
    }
   ],
   "source": [
    "#relational operators\n",
    "print(4>5)\n",
    "print(4<5)\n",
    "print(4>=5)\n",
    "print(4<5)\n",
    "print(4==5)\n",
    "print(4!=4)"
   ]
  },
  {
   "cell_type": "code",
   "execution_count": 3,
   "id": "4c3338a1",
   "metadata": {},
   "outputs": [
    {
     "name": "stdout",
     "output_type": "stream",
     "text": [
      "0\n",
      "1\n",
      "False\n"
     ]
    }
   ],
   "source": [
    "#logical operator\n",
    "print(1 and 0)\n",
    "print(1 or 0)\n",
    "print(not 1)"
   ]
  },
  {
   "cell_type": "code",
   "execution_count": 4,
   "id": "51608c5c",
   "metadata": {},
   "outputs": [
    {
     "name": "stdout",
     "output_type": "stream",
     "text": [
      "2\n",
      "3\n",
      "1\n",
      "-4\n",
      "1\n",
      "20\n"
     ]
    }
   ],
   "source": [
    "#bitwise operator\n",
    "\n",
    "# bitwise and\n",
    "print(2 & 3)\n",
    "# bitwise or\n",
    "print(2 | 3)\n",
    "# bitwise xor\n",
    "print(2 ^ 3)\n",
    "print(~3)\n",
    "print(4 >> 2)\n",
    "print(5 << 2)"
   ]
  },
  {
   "cell_type": "code",
   "execution_count": 5,
   "id": "7954388b",
   "metadata": {},
   "outputs": [
    {
     "name": "stdout",
     "output_type": "stream",
     "text": [
      "0\n"
     ]
    }
   ],
   "source": [
    "# Assignment Operators\n",
    "\n",
    "# = \n",
    "# a = 2\n",
    "a = 2\n",
    "# a = a % 2\n",
    "a %= 2\n",
    "# a++ ++a\n",
    "print(a)"
   ]
  },
  {
   "cell_type": "code",
   "execution_count": 6,
   "id": "a47a328f",
   "metadata": {},
   "outputs": [
    {
     "name": "stdout",
     "output_type": "stream",
     "text": [
      "True\n",
      "False\n"
     ]
    }
   ],
   "source": [
    "# Membership Operators\n",
    "# in/not in\n",
    "print('a' not in 'Delhi')\n",
    "print(1 in [2,3,4,5,6])"
   ]
  },
  {
   "cell_type": "code",
   "execution_count": 7,
   "id": "1309a6b4",
   "metadata": {},
   "outputs": [
    {
     "name": "stdout",
     "output_type": "stream",
     "text": [
      "Enter a 3 digit number123\n",
      "7\n"
     ]
    }
   ],
   "source": [
    "#program find the sum of 3 digit entered by user \n",
    "\n",
    "number = int(input(\"Enter a 3 digit number\"))\n",
    "a = number%10\n",
    "number = number//10\n",
    "\n",
    "b = number % 10\n",
    "\n",
    "c = number % 10\n",
    "print (a+b+c)"
   ]
  },
  {
   "cell_type": "markdown",
   "id": "492297df",
   "metadata": {},
   "source": [
    "# if-else in python"
   ]
  },
  {
   "cell_type": "code",
   "execution_count": 8,
   "id": "68466b65",
   "metadata": {},
   "outputs": [
    {
     "name": "stdout",
     "output_type": "stream",
     "text": [
      "enter a emailpallavdrj7533@gmail.com\n",
      "enter a password113233\n",
      "Incorrect passwords\n",
      "enter again passwords123@#$\n",
      "welcome,finally!\n"
     ]
    }
   ],
   "source": [
    "#login program and identation\n",
    "#e-mail -> pallavdrj7533@gmail.com\n",
    "#passwords -> 123@#$\n",
    "\n",
    "email = input(\"enter a email\")\n",
    "password = input(\"enter a password\")\n",
    "\n",
    "if email== 'pallavdrj7533@gmail.com' and password == '123@#$':\n",
    "    \n",
    "    print('welcome')\n",
    "    \n",
    "elif email== 'pallavdrj7533@gmail.com' and password != '123@#$':\n",
    "    #tell the user\n",
    "    print('Incorrect passwords')\n",
    "    password = input('enter again passwords')\n",
    "    \n",
    "    if password == '123@#$':\n",
    "        print('welcome,finally!')\n",
    "    else :\n",
    "        print('beta tumse na ho paayega!')\n",
    "        \n",
    "            \n",
    "else:\n",
    "    print('Not correct')"
   ]
  },
  {
   "cell_type": "code",
   "execution_count": 9,
   "id": "fe24be0c",
   "metadata": {},
   "outputs": [],
   "source": [
    "# if-else examples\n",
    "# 1. Find the min of 3 given numbers\n",
    "# 2. Menu Driven Program"
   ]
  },
  {
   "cell_type": "code",
   "execution_count": 10,
   "id": "4c6da93a",
   "metadata": {},
   "outputs": [
    {
     "name": "stdout",
     "output_type": "stream",
     "text": [
      "first num111\n",
      "second num1\n",
      "third num1\n",
      "smallest is 1\n"
     ]
    }
   ],
   "source": [
    "# min of 3 number\n",
    "\n",
    "a = int(input('first num'))\n",
    "b = int(input('second num'))\n",
    "c = int(input('third num'))\n",
    "\n",
    "if a<b and a<c:\n",
    "  print('smallest is',a)\n",
    "elif b<c:\n",
    "  print('smallest is',b)\n",
    "else:\n",
    "  print('smallest is',c)"
   ]
  },
  {
   "cell_type": "code",
   "execution_count": 11,
   "id": "19b59a51",
   "metadata": {},
   "outputs": [
    {
     "name": "stdout",
     "output_type": "stream",
     "text": [
      "\n",
      "Hi! how can I help you.\n",
      "1. Enter 1 for pin change\n",
      "2. Enter 2 for balance check\n",
      "3. Enter 3 for withdrawl\n",
      "4. Enter 4 for exit\n",
      "2\n",
      "balance\n"
     ]
    }
   ],
   "source": [
    "# menu driven calculator\n",
    "menu = input(\"\"\"\n",
    "Hi! how can I help you.\n",
    "1. Enter 1 for pin change\n",
    "2. Enter 2 for balance check\n",
    "3. Enter 3 for withdrawl\n",
    "4. Enter 4 for exit\n",
    "\"\"\")\n",
    "\n",
    "if menu == '1':\n",
    "  print('pin change')\n",
    "elif menu == '2':\n",
    "  print('balance')\n",
    "else:\n",
    "  print('exit')\n"
   ]
  },
  {
   "cell_type": "markdown",
   "id": "b8496dd8",
   "metadata": {},
   "source": [
    "# Modules in python\n"
   ]
  },
  {
   "cell_type": "code",
   "execution_count": null,
   "id": "d94f2460",
   "metadata": {},
   "outputs": [],
   "source": [
    "#math\n",
    "#keywords\n",
    "#random\n",
    "#datetime"
   ]
  },
  {
   "cell_type": "code",
   "execution_count": null,
   "id": "d97c744d",
   "metadata": {},
   "outputs": [],
   "source": [
    "#math\n",
    "import math\n",
    "math.sqrt(64)"
   ]
  },
  {
   "cell_type": "code",
   "execution_count": 14,
   "id": "f7437dbc",
   "metadata": {},
   "outputs": [
    {
     "name": "stdout",
     "output_type": "stream",
     "text": [
      "['False', 'None', 'True', 'and', 'as', 'assert', 'async', 'await', 'break', 'class', 'continue', 'def', 'del', 'elif', 'else', 'except', 'finally', 'for', 'from', 'global', 'if', 'import', 'in', 'is', 'lambda', 'nonlocal', 'not', 'or', 'pass', 'raise', 'return', 'try', 'while', 'with', 'yield']\n"
     ]
    }
   ],
   "source": [
    "#keyword\n",
    "import keyword\n",
    "print(keyword.kwlist)"
   ]
  },
  {
   "cell_type": "code",
   "execution_count": 15,
   "id": "dca4ff7f",
   "metadata": {},
   "outputs": [
    {
     "name": "stdout",
     "output_type": "stream",
     "text": [
      "96\n"
     ]
    }
   ],
   "source": [
    "# random\n",
    "import random\n",
    "print(random.randint(90,100))"
   ]
  },
  {
   "cell_type": "code",
   "execution_count": 16,
   "id": "cd5c9c4f",
   "metadata": {},
   "outputs": [
    {
     "name": "stdout",
     "output_type": "stream",
     "text": [
      "2024-01-02 14:26:14.560021\n"
     ]
    }
   ],
   "source": [
    "# datetime\n",
    "import datetime\n",
    "print(datetime.datetime.now())"
   ]
  },
  {
   "cell_type": "code",
   "execution_count": 17,
   "id": "cb7a4671",
   "metadata": {},
   "outputs": [
    {
     "name": "stdout",
     "output_type": "stream",
     "text": [
      "\n",
      "Please wait a moment while I gather a list of all available modules...\n",
      "\n"
     ]
    },
    {
     "name": "stderr",
     "output_type": "stream",
     "text": [
      "C:\\ProgramData\\anaconda3\\lib\\site-packages\\Crypto\\SelfTest\\PublicKey\\test_ECC_NIST.py:764: UserWarning: Warning: skipping extended tests for P-192 tests from point-at-infinity.org\n",
      "  tv_pai = load_test_vectors((\"PublicKey\", \"ECC\"),\n",
      "C:\\ProgramData\\anaconda3\\lib\\site-packages\\Crypto\\SelfTest\\PublicKey\\test_ECC_NIST.py:785: UserWarning: Warning: skipping extended tests for P-224 tests from point-at-infinity.org\n",
      "  tv_pai = load_test_vectors((\"PublicKey\", \"ECC\"),\n",
      "C:\\ProgramData\\anaconda3\\lib\\site-packages\\Crypto\\SelfTest\\PublicKey\\test_ECC_NIST.py:806: UserWarning: Warning: skipping extended tests for P-256 tests from point-at-infinity.org\n",
      "  tv_pai = load_test_vectors((\"PublicKey\", \"ECC\"),\n",
      "C:\\ProgramData\\anaconda3\\lib\\site-packages\\Crypto\\SelfTest\\PublicKey\\test_ECC_NIST.py:827: UserWarning: Warning: skipping extended tests for P-384 tests from point-at-infinity.org\n",
      "  tv_pai = load_test_vectors((\"PublicKey\", \"ECC\"),\n",
      "C:\\ProgramData\\anaconda3\\lib\\site-packages\\Crypto\\SelfTest\\PublicKey\\test_ECC_NIST.py:848: UserWarning: Warning: skipping extended tests for P-521 tests from point-at-infinity.org\n",
      "  tv_pai = load_test_vectors((\"PublicKey\", \"ECC\"),\n",
      "C:\\ProgramData\\anaconda3\\lib\\site-packages\\Crypto\\SelfTest\\Signature\\test_pkcs1_15.py:70: UserWarning: Warning: skipping extended tests for Signature Verification 186-3\n",
      "  test_vectors_verify = load_test_vectors((\"Signature\", \"PKCS1-v1.5\"),\n",
      "C:\\ProgramData\\anaconda3\\lib\\site-packages\\Crypto\\SelfTest\\Signature\\test_pkcs1_15.py:117: UserWarning: Warning: skipping extended tests for Signature Generation 186-2\n",
      "  test_vectors_sign  = load_test_vectors((\"Signature\", \"PKCS1-v1.5\"),\n",
      "C:\\ProgramData\\anaconda3\\lib\\site-packages\\Crypto\\SelfTest\\Signature\\test_pkcs1_15.py:122: UserWarning: Warning: skipping extended tests for Signature Generation 186-3\n",
      "  test_vectors_sign += load_test_vectors((\"Signature\", \"PKCS1-v1.5\"),\n",
      "C:\\ProgramData\\anaconda3\\lib\\site-packages\\Crypto\\SelfTest\\Signature\\test_pss.py:117: UserWarning: Warning: skipping extended tests for Signature Verification 186-3\n",
      "  test_vectors_verify = load_test_vectors((\"Signature\", \"PKCS1-PSS\"),\n",
      "C:\\ProgramData\\anaconda3\\lib\\site-packages\\Crypto\\SelfTest\\Signature\\test_pss.py:169: UserWarning: Warning: skipping extended tests for Signature Generation 186-2\n",
      "  test_vectors_sign = load_test_vectors((\"Signature\", \"PKCS1-PSS\"),\n",
      "C:\\ProgramData\\anaconda3\\lib\\site-packages\\Crypto\\SelfTest\\Signature\\test_pss.py:174: UserWarning: Warning: skipping extended tests for Signature Generation 186-3\n",
      "  test_vectors_sign += load_test_vectors((\"Signature\", \"PKCS1-PSS\"),\n",
      "C:\\ProgramData\\anaconda3\\lib\\site-packages\\Crypto\\SelfTest\\Signature\\test_dss.py:159: UserWarning: Warning: skipping extended tests for Signature Verification 186-3\n",
      "  test_vectors_verify = load_test_vectors((\"Signature\", \"DSA\"),\n",
      "C:\\ProgramData\\anaconda3\\lib\\site-packages\\Crypto\\SelfTest\\Signature\\test_dss.py:197: UserWarning: Warning: skipping extended tests for Signature Creation 186-3\n",
      "  test_vectors_sign = load_test_vectors((\"Signature\", \"DSA\"),\n",
      "C:\\ProgramData\\anaconda3\\lib\\site-packages\\Crypto\\SelfTest\\Signature\\test_dss.py:307: UserWarning: Warning: skipping extended tests for ECDSA Signature Verification 186-3\n",
      "  test_vectors_verify = load_test_vectors((\"Signature\", \"ECDSA\"),\n",
      "C:\\ProgramData\\anaconda3\\lib\\site-packages\\Crypto\\SelfTest\\Signature\\test_dss.py:314: UserWarning: Warning: skipping extended tests for ECDSA Signature Verification 186-3\n",
      "  test_vectors_verify += load_test_vectors((\"Signature\", \"ECDSA\"),\n",
      "C:\\ProgramData\\anaconda3\\lib\\site-packages\\Crypto\\SelfTest\\Signature\\test_dss.py:357: UserWarning: Warning: skipping extended tests for ECDSA Signature Verification 186-3\n",
      "  test_vectors_sign = load_test_vectors((\"Signature\", \"ECDSA\"),\n",
      "WARNING: AstropyDeprecationWarning: The private astropy._erfa module has been made into its own package, pyerfa, which is a dependency of astropy and can be imported directly using \"import erfa\" [astropy._erfa]\n",
      "C:\\ProgramData\\anaconda3\\lib\\site-packages\\caffe2\\__init__.py:5: UserWarning: Caffe2 support is not fully enabled in this PyTorch build. Please enable Caffe2 by building PyTorch from source with `BUILD_CAFFE2=1` flag.\n",
      "  warnings.warn(\"Caffe2 support is not fully enabled in this PyTorch build. \"\n",
      "C:\\ProgramData\\anaconda3\\lib\\site-packages\\caffe2\\proto\\__init__.py:17: UserWarning: Caffe2 support is not enabled in this PyTorch build. Please enable Caffe2 by building PyTorch from source with `BUILD_CAFFE2=1` flag.\n",
      "  warnings.warn('Caffe2 support is not enabled in this PyTorch build. '\n",
      "C:\\ProgramData\\anaconda3\\lib\\site-packages\\caffe2\\proto\\__init__.py:17: UserWarning: Caffe2 support is not enabled in this PyTorch build. Please enable Caffe2 by building PyTorch from source with `BUILD_CAFFE2=1` flag.\n",
      "  warnings.warn('Caffe2 support is not enabled in this PyTorch build. '\n",
      "C:\\ProgramData\\anaconda3\\lib\\site-packages\\caffe2\\python\\__init__.py:9: UserWarning: Caffe2 support is not enabled in this PyTorch build. Please enable Caffe2 by building PyTorch from source with `BUILD_CAFFE2=1` flag.\n",
      "  warnings.warn('Caffe2 support is not enabled in this PyTorch build. '\n",
      "C:\\ProgramData\\anaconda3\\lib\\site-packages\\paramiko\\transport.py:219: CryptographyDeprecationWarning: Blowfish has been deprecated\n",
      "  \"class\": algorithms.Blowfish,\n",
      "C:\\ProgramData\\anaconda3\\lib\\site-packages\\llvmlite\\llvmpy\\__init__.py:3: UserWarning: The module `llvmlite.llvmpy` is deprecated and will be removed in the future.\n",
      "  warnings.warn(\n",
      "C:\\ProgramData\\anaconda3\\lib\\site-packages\\nltk\\twitter\\__init__.py:20: UserWarning: The twython library has not been installed. Some functionality from the twitter package will not be available.\n",
      "  warnings.warn(\n",
      "C:\\ProgramData\\anaconda3\\lib\\pkgutil.py:92: UserWarning: The numpy.array_api submodule is still experimental. See NEP 47.\n",
      "  __import__(info.name)\n",
      "C:\\ProgramData\\anaconda3\\lib\\site-packages\\_distutils_hack\\__init__.py:33: UserWarning: Setuptools is replacing distutils.\n",
      "  warnings.warn(\"Setuptools is replacing distutils.\")\n",
      "C:\\ProgramData\\anaconda3\\lib\\pkgutil.py:92: UserWarning:\n",
      "\n",
      "viewer requires Qt\n",
      "\n",
      "No QCoreApplication instance found. Application patches not applied. You have to call load_stylesheet function after instantiation of QApplication to take effect. \n",
      "NOTE: Redirects are currently not supported in Windows or MacOs.\n"
     ]
    },
    {
     "ename": "Skipped",
     "evalue": "could not import 'hypothesis': No module named 'hypothesis'",
     "output_type": "error",
     "traceback": [
      "\u001b[1;31m---------------------------------------------------------------------------\u001b[0m",
      "\u001b[1;31mSkipped\u001b[0m                                   Traceback (most recent call last)",
      "Cell \u001b[1;32mIn[17], line 1\u001b[0m\n\u001b[1;32m----> 1\u001b[0m \u001b[43mhelp\u001b[49m\u001b[43m(\u001b[49m\u001b[38;5;124;43m'\u001b[39;49m\u001b[38;5;124;43mmodules\u001b[39;49m\u001b[38;5;124;43m'\u001b[39;49m\u001b[43m)\u001b[49m\n",
      "File \u001b[1;32mC:\\ProgramData\\anaconda3\\lib\\_sitebuiltins.py:103\u001b[0m, in \u001b[0;36m_Helper.__call__\u001b[1;34m(self, *args, **kwds)\u001b[0m\n\u001b[0;32m    101\u001b[0m \u001b[38;5;28;01mdef\u001b[39;00m \u001b[38;5;21m__call__\u001b[39m(\u001b[38;5;28mself\u001b[39m, \u001b[38;5;241m*\u001b[39margs, \u001b[38;5;241m*\u001b[39m\u001b[38;5;241m*\u001b[39mkwds):\n\u001b[0;32m    102\u001b[0m     \u001b[38;5;28;01mimport\u001b[39;00m \u001b[38;5;21;01mpydoc\u001b[39;00m\n\u001b[1;32m--> 103\u001b[0m     \u001b[38;5;28;01mreturn\u001b[39;00m pydoc\u001b[38;5;241m.\u001b[39mhelp(\u001b[38;5;241m*\u001b[39margs, \u001b[38;5;241m*\u001b[39m\u001b[38;5;241m*\u001b[39mkwds)\n",
      "File \u001b[1;32mC:\\ProgramData\\anaconda3\\lib\\pydoc.py:2006\u001b[0m, in \u001b[0;36mHelper.__call__\u001b[1;34m(self, request)\u001b[0m\n\u001b[0;32m   2004\u001b[0m \u001b[38;5;28;01mdef\u001b[39;00m \u001b[38;5;21m__call__\u001b[39m(\u001b[38;5;28mself\u001b[39m, request\u001b[38;5;241m=\u001b[39m_GoInteractive):\n\u001b[0;32m   2005\u001b[0m     \u001b[38;5;28;01mif\u001b[39;00m request \u001b[38;5;129;01mis\u001b[39;00m \u001b[38;5;129;01mnot\u001b[39;00m \u001b[38;5;28mself\u001b[39m\u001b[38;5;241m.\u001b[39m_GoInteractive:\n\u001b[1;32m-> 2006\u001b[0m         \u001b[38;5;28;43mself\u001b[39;49m\u001b[38;5;241;43m.\u001b[39;49m\u001b[43mhelp\u001b[49m\u001b[43m(\u001b[49m\u001b[43mrequest\u001b[49m\u001b[43m)\u001b[49m\n\u001b[0;32m   2007\u001b[0m     \u001b[38;5;28;01melse\u001b[39;00m:\n\u001b[0;32m   2008\u001b[0m         \u001b[38;5;28mself\u001b[39m\u001b[38;5;241m.\u001b[39mintro()\n",
      "File \u001b[1;32mC:\\ProgramData\\anaconda3\\lib\\pydoc.py:2053\u001b[0m, in \u001b[0;36mHelper.help\u001b[1;34m(self, request)\u001b[0m\n\u001b[0;32m   2051\u001b[0m \u001b[38;5;28;01melif\u001b[39;00m request \u001b[38;5;241m==\u001b[39m \u001b[38;5;124m'\u001b[39m\u001b[38;5;124msymbols\u001b[39m\u001b[38;5;124m'\u001b[39m: \u001b[38;5;28mself\u001b[39m\u001b[38;5;241m.\u001b[39mlistsymbols()\n\u001b[0;32m   2052\u001b[0m \u001b[38;5;28;01melif\u001b[39;00m request \u001b[38;5;241m==\u001b[39m \u001b[38;5;124m'\u001b[39m\u001b[38;5;124mtopics\u001b[39m\u001b[38;5;124m'\u001b[39m: \u001b[38;5;28mself\u001b[39m\u001b[38;5;241m.\u001b[39mlisttopics()\n\u001b[1;32m-> 2053\u001b[0m \u001b[38;5;28;01melif\u001b[39;00m request \u001b[38;5;241m==\u001b[39m \u001b[38;5;124m'\u001b[39m\u001b[38;5;124mmodules\u001b[39m\u001b[38;5;124m'\u001b[39m: \u001b[38;5;28;43mself\u001b[39;49m\u001b[38;5;241;43m.\u001b[39;49m\u001b[43mlistmodules\u001b[49m\u001b[43m(\u001b[49m\u001b[43m)\u001b[49m\n\u001b[0;32m   2054\u001b[0m \u001b[38;5;28;01melif\u001b[39;00m request[:\u001b[38;5;241m8\u001b[39m] \u001b[38;5;241m==\u001b[39m \u001b[38;5;124m'\u001b[39m\u001b[38;5;124mmodules \u001b[39m\u001b[38;5;124m'\u001b[39m:\n\u001b[0;32m   2055\u001b[0m     \u001b[38;5;28mself\u001b[39m\u001b[38;5;241m.\u001b[39mlistmodules(request\u001b[38;5;241m.\u001b[39msplit()[\u001b[38;5;241m1\u001b[39m])\n",
      "File \u001b[1;32mC:\\ProgramData\\anaconda3\\lib\\pydoc.py:2205\u001b[0m, in \u001b[0;36mHelper.listmodules\u001b[1;34m(self, key)\u001b[0m\n\u001b[0;32m   2203\u001b[0m             \u001b[38;5;28;01mdef\u001b[39;00m \u001b[38;5;21monerror\u001b[39m(modname):\n\u001b[0;32m   2204\u001b[0m                 callback(\u001b[38;5;28;01mNone\u001b[39;00m, modname, \u001b[38;5;28;01mNone\u001b[39;00m)\n\u001b[1;32m-> 2205\u001b[0m             \u001b[43mModuleScanner\u001b[49m\u001b[43m(\u001b[49m\u001b[43m)\u001b[49m\u001b[38;5;241;43m.\u001b[39;49m\u001b[43mrun\u001b[49m\u001b[43m(\u001b[49m\u001b[43mcallback\u001b[49m\u001b[43m,\u001b[49m\u001b[43m \u001b[49m\u001b[43monerror\u001b[49m\u001b[38;5;241;43m=\u001b[39;49m\u001b[43monerror\u001b[49m\u001b[43m)\u001b[49m\n\u001b[0;32m   2206\u001b[0m             \u001b[38;5;28mself\u001b[39m\u001b[38;5;241m.\u001b[39mlist(modules\u001b[38;5;241m.\u001b[39mkeys())\n\u001b[0;32m   2207\u001b[0m             \u001b[38;5;28mself\u001b[39m\u001b[38;5;241m.\u001b[39moutput\u001b[38;5;241m.\u001b[39mwrite(\u001b[38;5;124m'''\u001b[39m\n\u001b[0;32m   2208\u001b[0m \u001b[38;5;124mEnter any module name to get more help.  Or, type \u001b[39m\u001b[38;5;124m\"\u001b[39m\u001b[38;5;124mmodules spam\u001b[39m\u001b[38;5;124m\"\u001b[39m\u001b[38;5;124m to search\u001b[39m\n\u001b[0;32m   2209\u001b[0m \u001b[38;5;124mfor modules whose name or summary contain the string \u001b[39m\u001b[38;5;124m\"\u001b[39m\u001b[38;5;124mspam\u001b[39m\u001b[38;5;124m\"\u001b[39m\u001b[38;5;124m.\u001b[39m\n\u001b[0;32m   2210\u001b[0m \u001b[38;5;124m'''\u001b[39m)\n",
      "File \u001b[1;32mC:\\ProgramData\\anaconda3\\lib\\pydoc.py:2234\u001b[0m, in \u001b[0;36mModuleScanner.run\u001b[1;34m(self, callback, key, completer, onerror)\u001b[0m\n\u001b[0;32m   2231\u001b[0m             \u001b[38;5;28;01mif\u001b[39;00m name\u001b[38;5;241m.\u001b[39mlower()\u001b[38;5;241m.\u001b[39mfind(key) \u001b[38;5;241m>\u001b[39m\u001b[38;5;241m=\u001b[39m \u001b[38;5;241m0\u001b[39m:\n\u001b[0;32m   2232\u001b[0m                 callback(\u001b[38;5;28;01mNone\u001b[39;00m, modname, desc)\n\u001b[1;32m-> 2234\u001b[0m \u001b[38;5;28;01mfor\u001b[39;00m importer, modname, ispkg \u001b[38;5;129;01min\u001b[39;00m pkgutil\u001b[38;5;241m.\u001b[39mwalk_packages(onerror\u001b[38;5;241m=\u001b[39monerror):\n\u001b[0;32m   2235\u001b[0m     \u001b[38;5;28;01mif\u001b[39;00m \u001b[38;5;28mself\u001b[39m\u001b[38;5;241m.\u001b[39mquit:\n\u001b[0;32m   2236\u001b[0m         \u001b[38;5;28;01mbreak\u001b[39;00m\n",
      "File \u001b[1;32mC:\\ProgramData\\anaconda3\\lib\\pkgutil.py:107\u001b[0m, in \u001b[0;36mwalk_packages\u001b[1;34m(path, prefix, onerror)\u001b[0m\n\u001b[0;32m    104\u001b[0m \u001b[38;5;66;03m# don't traverse path items we've seen before\u001b[39;00m\n\u001b[0;32m    105\u001b[0m path \u001b[38;5;241m=\u001b[39m [p \u001b[38;5;28;01mfor\u001b[39;00m p \u001b[38;5;129;01min\u001b[39;00m path \u001b[38;5;28;01mif\u001b[39;00m \u001b[38;5;129;01mnot\u001b[39;00m seen(p)]\n\u001b[1;32m--> 107\u001b[0m \u001b[38;5;28;01myield from\u001b[39;00m walk_packages(path, info\u001b[38;5;241m.\u001b[39mname\u001b[38;5;241m+\u001b[39m\u001b[38;5;124m'\u001b[39m\u001b[38;5;124m.\u001b[39m\u001b[38;5;124m'\u001b[39m, onerror)\n",
      "File \u001b[1;32mC:\\ProgramData\\anaconda3\\lib\\pkgutil.py:92\u001b[0m, in \u001b[0;36mwalk_packages\u001b[1;34m(path, prefix, onerror)\u001b[0m\n\u001b[0;32m     90\u001b[0m \u001b[38;5;28;01mif\u001b[39;00m info\u001b[38;5;241m.\u001b[39mispkg:\n\u001b[0;32m     91\u001b[0m     \u001b[38;5;28;01mtry\u001b[39;00m:\n\u001b[1;32m---> 92\u001b[0m         \u001b[38;5;28;43m__import__\u001b[39;49m\u001b[43m(\u001b[49m\u001b[43minfo\u001b[49m\u001b[38;5;241;43m.\u001b[39;49m\u001b[43mname\u001b[49m\u001b[43m)\u001b[49m\n\u001b[0;32m     93\u001b[0m     \u001b[38;5;28;01mexcept\u001b[39;00m \u001b[38;5;167;01mImportError\u001b[39;00m:\n\u001b[0;32m     94\u001b[0m         \u001b[38;5;28;01mif\u001b[39;00m onerror \u001b[38;5;129;01mis\u001b[39;00m \u001b[38;5;129;01mnot\u001b[39;00m \u001b[38;5;28;01mNone\u001b[39;00m:\n",
      "File \u001b[1;32mC:\\ProgramData\\anaconda3\\lib\\site-packages\\xgboost\\testing\\__init__.py:47\u001b[0m\n\u001b[0;32m     38\u001b[0m \u001b[38;5;28;01mfrom\u001b[39;00m \u001b[38;5;21;01mxgboost\u001b[39;00m\u001b[38;5;21;01m.\u001b[39;00m\u001b[38;5;21;01msklearn\u001b[39;00m \u001b[38;5;28;01mimport\u001b[39;00m SklObjective\n\u001b[0;32m     39\u001b[0m \u001b[38;5;28;01mfrom\u001b[39;00m \u001b[38;5;21;01mxgboost\u001b[39;00m\u001b[38;5;21;01m.\u001b[39;00m\u001b[38;5;21;01mtesting\u001b[39;00m\u001b[38;5;21;01m.\u001b[39;00m\u001b[38;5;21;01mdata\u001b[39;00m \u001b[38;5;28;01mimport\u001b[39;00m (\n\u001b[0;32m     40\u001b[0m     get_california_housing,\n\u001b[0;32m     41\u001b[0m     get_cancer,\n\u001b[1;32m   (...)\u001b[0m\n\u001b[0;32m     44\u001b[0m     memory,\n\u001b[0;32m     45\u001b[0m )\n\u001b[1;32m---> 47\u001b[0m hypothesis \u001b[38;5;241m=\u001b[39m \u001b[43mpytest\u001b[49m\u001b[38;5;241;43m.\u001b[39;49m\u001b[43mimportorskip\u001b[49m\u001b[43m(\u001b[49m\u001b[38;5;124;43m\"\u001b[39;49m\u001b[38;5;124;43mhypothesis\u001b[39;49m\u001b[38;5;124;43m\"\u001b[39;49m\u001b[43m)\u001b[49m\n\u001b[0;32m     49\u001b[0m \u001b[38;5;66;03m# pylint:disable=wrong-import-position,wrong-import-order\u001b[39;00m\n\u001b[0;32m     50\u001b[0m \u001b[38;5;28;01mfrom\u001b[39;00m \u001b[38;5;21;01mhypothesis\u001b[39;00m \u001b[38;5;28;01mimport\u001b[39;00m strategies\n",
      "File \u001b[1;32mC:\\ProgramData\\anaconda3\\lib\\site-packages\\_pytest\\outcomes.py:292\u001b[0m, in \u001b[0;36mimportorskip\u001b[1;34m(modname, minversion, reason)\u001b[0m\n\u001b[0;32m    290\u001b[0m         \u001b[38;5;28;01mif\u001b[39;00m reason \u001b[38;5;129;01mis\u001b[39;00m \u001b[38;5;28;01mNone\u001b[39;00m:\n\u001b[0;32m    291\u001b[0m             reason \u001b[38;5;241m=\u001b[39m \u001b[38;5;124mf\u001b[39m\u001b[38;5;124m\"\u001b[39m\u001b[38;5;124mcould not import \u001b[39m\u001b[38;5;132;01m{\u001b[39;00mmodname\u001b[38;5;132;01m!r}\u001b[39;00m\u001b[38;5;124m: \u001b[39m\u001b[38;5;132;01m{\u001b[39;00mexc\u001b[38;5;132;01m}\u001b[39;00m\u001b[38;5;124m\"\u001b[39m\n\u001b[1;32m--> 292\u001b[0m         \u001b[38;5;28;01mraise\u001b[39;00m Skipped(reason, allow_module_level\u001b[38;5;241m=\u001b[39m\u001b[38;5;28;01mTrue\u001b[39;00m) \u001b[38;5;28;01mfrom\u001b[39;00m \u001b[38;5;28;01mNone\u001b[39;00m\n\u001b[0;32m    293\u001b[0m mod \u001b[38;5;241m=\u001b[39m sys\u001b[38;5;241m.\u001b[39mmodules[modname]\n\u001b[0;32m    294\u001b[0m \u001b[38;5;28;01mif\u001b[39;00m minversion \u001b[38;5;129;01mis\u001b[39;00m \u001b[38;5;28;01mNone\u001b[39;00m:\n",
      "\u001b[1;31mSkipped\u001b[0m: could not import 'hypothesis': No module named 'hypothesis'"
     ]
    }
   ],
   "source": [
    "help('modules')"
   ]
  },
  {
   "cell_type": "markdown",
   "id": "e00c1c4d",
   "metadata": {},
   "source": [
    "# Loops in python"
   ]
  },
  {
   "cell_type": "code",
   "execution_count": null,
   "id": "1272b8f9",
   "metadata": {},
   "outputs": [],
   "source": [
    "#Need for loops\n",
    "#While Loop\n",
    "#For Loop"
   ]
  },
  {
   "cell_type": "code",
   "execution_count": null,
   "id": "19aab1bf",
   "metadata": {},
   "outputs": [],
   "source": [
    "# While loop example -> program to print the table\n",
    "# Program -> Sum of all digits of a given number\n",
    "# Program -> keep accepting numbers from users till he/she enters a 0 and then find the avg"
   ]
  },
  {
   "cell_type": "code",
   "execution_count": null,
   "id": "d928cbea",
   "metadata": {},
   "outputs": [],
   "source": [
    "number = int(input('enter the number'))\n",
    "\n",
    "i = 1\n",
    "\n",
    "while i<11:\n",
    "  print(number,'*',i,'=',number * i)\n",
    "  i += 1"
   ]
  },
  {
   "cell_type": "code",
   "execution_count": null,
   "id": "b9c69d60",
   "metadata": {},
   "outputs": [],
   "source": [
    "# while loop with else \n",
    "\n",
    "x = 1\n",
    "\n",
    "while x < 3:\n",
    "  print(x)\n",
    "  x += 1\n",
    "\n",
    "else:\n",
    "  print('limit crossed')"
   ]
  },
  {
   "cell_type": "code",
   "execution_count": null,
   "id": "de2947f8",
   "metadata": {},
   "outputs": [],
   "source": [
    "# Guessing game\n",
    "\n",
    "# generate a random integer between 1 and 100\n",
    "import random\n",
    "jackpot = random.randint(1,100)\n",
    "\n",
    "guess = int(input('guess karo'))\n",
    "counter = 1\n",
    "while guess != jackpot:\n",
    "  if guess < jackpot:\n",
    "    print('galat!guess higher')\n",
    "  else:\n",
    "    print('galat!guess lower')\n",
    "\n",
    "  guess = int(input('guess karo'))\n",
    "  counter += 1\n",
    "\n",
    "else:\n",
    "  print('correct guess')\n",
    "  print('attempts',counter)\n"
   ]
  },
  {
   "cell_type": "code",
   "execution_count": null,
   "id": "e9c1788d",
   "metadata": {},
   "outputs": [],
   "source": [
    "# For loop demo\n",
    "\n",
    "for i in {1,2,3,4,5}:\n",
    "  print(i)"
   ]
  },
  {
   "cell_type": "code",
   "execution_count": null,
   "id": "d35794ee",
   "metadata": {},
   "outputs": [],
   "source": [
    "# For loop examples"
   ]
  },
  {
   "cell_type": "raw",
   "id": "44dbe4e1",
   "metadata": {},
   "source": [
    "Program - The current population of a town is 10000. The population of the town is increasing at the rate of 10% per year. You have to write a program to find out the population at the end of each of the last 10 years."
   ]
  },
  {
   "cell_type": "code",
   "execution_count": 1,
   "id": "34ab3e20",
   "metadata": {},
   "outputs": [
    {
     "name": "stdout",
     "output_type": "stream",
     "text": [
      "10 10000\n",
      "9 9090.90909090909\n",
      "8 8264.462809917353\n",
      "7 7513.148009015775\n",
      "6 6830.134553650703\n",
      "5 6209.213230591548\n",
      "4 5644.739300537771\n",
      "3 5131.5811823070635\n",
      "2 4665.07380209733\n",
      "1 4240.976183724845\n"
     ]
    }
   ],
   "source": [
    "curr_pop = 10000\n",
    "\n",
    "for i in range(10,0,-1):\n",
    "  print(i,curr_pop)\n",
    "  curr_pop = curr_pop/1.1\n"
   ]
  },
  {
   "cell_type": "code",
   "execution_count": null,
   "id": "508af00b",
   "metadata": {},
   "outputs": [],
   "source": []
  }
 ],
 "metadata": {
  "kernelspec": {
   "display_name": "Python 3 (ipykernel)",
   "language": "python",
   "name": "python3"
  },
  "language_info": {
   "codemirror_mode": {
    "name": "ipython",
    "version": 3
   },
   "file_extension": ".py",
   "mimetype": "text/x-python",
   "name": "python",
   "nbconvert_exporter": "python",
   "pygments_lexer": "ipython3",
   "version": "3.10.13"
  }
 },
 "nbformat": 4,
 "nbformat_minor": 5
}
